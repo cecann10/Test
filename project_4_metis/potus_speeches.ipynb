{
  "nbformat": 4,
  "nbformat_minor": 0,
  "metadata": {
    "kernelspec": {
      "display_name": "Python 3",
      "language": "python",
      "name": "python3"
    },
    "language_info": {
      "codemirror_mode": {
        "name": "ipython",
        "version": 3
      },
      "file_extension": ".py",
      "mimetype": "text/x-python",
      "name": "python",
      "nbconvert_exporter": "python",
      "pygments_lexer": "ipython3",
      "version": "3.7.4"
    },
    "colab": {
      "name": "potus_speeches.ipynb",
      "provenance": [],
      "include_colab_link": true
    }
  },
  "cells": [
    {
      "cell_type": "markdown",
      "metadata": {
        "id": "view-in-github",
        "colab_type": "text"
      },
      "source": [
        "<a href=\"https://colab.research.google.com/github/cecann10/Test/blob/master/project_4_metis/potus_speeches.ipynb\" target=\"_parent\"><img src=\"https://colab.research.google.com/assets/colab-badge.svg\" alt=\"Open In Colab\"/></a>"
      ]
    },
    {
      "cell_type": "markdown",
      "metadata": {
        "id": "9TCXda_b-MBx",
        "colab_type": "text"
      },
      "source": [
        "# Model to Understand Presidential Sentiment Toward Women\n",
        "This worksheet is used for EDA, NLP, and Modeling of text on 991 Presidental speeches that span all US Presidents from George Washington to Donald Trump mid-term 2019."
      ]
    },
    {
      "cell_type": "markdown",
      "metadata": {
        "id": "m5vSUg3lyVE0",
        "colab_type": "text"
      },
      "source": [
        "First, mount google drive to work with files places there for this project >"
      ]
    },
    {
      "cell_type": "code",
      "metadata": {
        "id": "MZCcutiOxzEt",
        "colab_type": "code",
        "colab": {}
      },
      "source": [
        "from google.colab import drive\n",
        "drive.mount('/content/drive')"
      ],
      "execution_count": null,
      "outputs": []
    },
    {
      "cell_type": "markdown",
      "metadata": {
        "id": "KvmgPoAJ3Spb",
        "colab_type": "text"
      },
      "source": [
        "Now install necessary systems to connect to Google Drive API and import custom modules for this project >"
      ]
    },
    {
      "cell_type": "code",
      "metadata": {
        "id": "fWDgkgd310qn",
        "colab_type": "code",
        "colab": {}
      },
      "source": [
        "!pip install pydrive                             # Package to use Google Drive API - not installed in Colab VM by default\n",
        "from pydrive.auth import GoogleAuth\n",
        "from pydrive.drive import GoogleDrive"
      ],
      "execution_count": null,
      "outputs": []
    },
    {
      "cell_type": "code",
      "metadata": {
        "id": "S0V2hgHx18fX",
        "colab_type": "code",
        "colab": {}
      },
      "source": [
        "from google.colab import auth                    # Other necessary packages\n",
        "from oauth2client.client import GoogleCredentials"
      ],
      "execution_count": 6,
      "outputs": []
    },
    {
      "cell_type": "code",
      "metadata": {
        "id": "vJAFtPVW1-Qw",
        "colab_type": "code",
        "colab": {}
      },
      "source": [
        "auth.authenticate_user()                         # Follow prompt in the authorization process\n",
        "gauth = GoogleAuth()\n",
        "gauth.credentials = GoogleCredentials.get_application_default()"
      ],
      "execution_count": 7,
      "outputs": []
    },
    {
      "cell_type": "code",
      "metadata": {
        "id": "Gah1tBp22J8S",
        "colab_type": "code",
        "colab": {}
      },
      "source": [
        "drive = GoogleDrive(gauth)\n",
        "your_module = drive.CreateFile({\"id\": \"1QT_L6vhXrPpBdY9xFA07YoAgvYR01cNu\"})   # id= [part after \"id=\" in the shareable link of file]\n",
        "your_module.GetContentFile(\"nlp_pipe.py\")          # Save the .py module file to Colab VM\n",
        "import nlp_pipe          # import module"
      ],
      "execution_count": 8,
      "outputs": []
    },
    {
      "cell_type": "markdown",
      "metadata": {
        "id": "bs9hxz5_yeV4",
        "colab_type": "text"
      },
      "source": [
        "Import all libraries and modules required to run this workbook >"
      ]
    },
    {
      "cell_type": "code",
      "metadata": {
        "id": "RegribghxLiH",
        "colab_type": "code",
        "colab": {}
      },
      "source": [
        "import pandas as pd\n",
        "import numpy as np\n",
        "\n",
        "from sklearn.feature_extraction.text import CountVectorizer\n",
        "from nltk.tokenize import TreebankWordTokenizer\n",
        "from nltk.stem import PorterStemmer\n",
        "\n",
        "from sklearn.model_selection import train_test_split\n",
        "\n",
        "# custom modules for this project's NLP\n",
        "from nlp_pipe import nlp_pipe\n",
        "from nlp_pipe import cleaning_function"
      ],
      "execution_count": 9,
      "outputs": []
    },
    {
      "cell_type": "markdown",
      "metadata": {
        "id": "tULDq22XxLiL",
        "colab_type": "text"
      },
      "source": [
        "-\n",
        "### Get the data required for this project"
      ]
    },
    {
      "cell_type": "markdown",
      "metadata": {
        "id": "u5Genm2axLiM",
        "colab_type": "text"
      },
      "source": [
        "Frist, pull in csv file received from [Kaggle](https://www.kaggle.com/littleotter/united-states-presidential-speeches) that includes presidential speeches from every US President starting with Washingon on 1789-04-30 to Trump on 2019-09-25.  Each row includes:\n",
        "1. Date of speech\n",
        "2. President\n",
        "3. Party of President\n",
        "4. Speech Title\n",
        "5. Summary of Speech\n",
        "6. Transcript\n",
        "7. URL of source of transcript"
      ]
    },
    {
      "cell_type": "code",
      "metadata": {
        "id": "YbN2p87cxLiN",
        "colab_type": "code",
        "colab": {
          "resources": {
            "http://localhost:8080/nbextensions/google.colab/files.js": {
              "data": "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",
              "ok": true,
              "headers": [
                [
                  "content-type",
                  "application/javascript"
                ]
              ],
              "status": 200,
              "status_text": ""
            }
          },
          "base_uri": "https://localhost:8080/",
          "height": 72
        },
        "outputId": "2d02a3fa-b7ae-41e9-b79b-5bdea8ff3613"
      },
      "source": [
        "# pull in full csv file of presidential speeches\n",
        "\n",
        "from google.colab import files\n",
        "uploaded = files.upload()"
      ],
      "execution_count": 15,
      "outputs": [
        {
          "output_type": "display_data",
          "data": {
            "text/html": [
              "\n",
              "     <input type=\"file\" id=\"files-09d1ca05-3184-4f71-90f3-a44847f8daca\" name=\"files[]\" multiple disabled\n",
              "        style=\"border:none\" />\n",
              "     <output id=\"result-09d1ca05-3184-4f71-90f3-a44847f8daca\">\n",
              "      Upload widget is only available when the cell has been executed in the\n",
              "      current browser session. Please rerun this cell to enable.\n",
              "      </output>\n",
              "      <script src=\"/nbextensions/google.colab/files.js\"></script> "
            ],
            "text/plain": [
              "<IPython.core.display.HTML object>"
            ]
          },
          "metadata": {
            "tags": []
          }
        },
        {
          "output_type": "stream",
          "text": [
            "Saving presidential_speeches.csv to presidential_speeches.csv\n"
          ],
          "name": "stdout"
        }
      ]
    },
    {
      "cell_type": "code",
      "metadata": {
        "id": "w9i9lzdZ4g0e",
        "colab_type": "code",
        "colab": {}
      },
      "source": [
        "# Now save presidential speeches csv as a dataframe\n",
        "\n",
        "import io\n",
        "potus_speech = pd.read_csv(io.BytesIO(uploaded['presidential_speeches.csv']))\n"
      ],
      "execution_count": 16,
      "outputs": []
    },
    {
      "cell_type": "markdown",
      "metadata": {
        "id": "etj4aFXqxLiS",
        "colab_type": "text"
      },
      "source": [
        "-\n",
        "### Exploratory Data Analysis\n",
        "\n"
      ]
    },
    {
      "cell_type": "code",
      "metadata": {
        "id": "mx1A5OL0xLiT",
        "colab_type": "code",
        "colab": {
          "base_uri": "https://localhost:8080/",
          "height": 34
        },
        "outputId": "fe796785-66be-487d-cf90-7d5fc1d42c5b"
      },
      "source": [
        "# see how many speeches are within this file\n",
        "\n",
        "len(potus_speech)"
      ],
      "execution_count": 17,
      "outputs": [
        {
          "output_type": "execute_result",
          "data": {
            "text/plain": [
              "992"
            ]
          },
          "metadata": {
            "tags": []
          },
          "execution_count": 17
        }
      ]
    },
    {
      "cell_type": "markdown",
      "metadata": {
        "id": "r_UkTnOT_uZ1",
        "colab_type": "text"
      },
      "source": [
        "Clean file as needed >"
      ]
    },
    {
      "cell_type": "code",
      "metadata": {
        "id": "7VmN5QDoxLiW",
        "colab_type": "code",
        "colab": {}
      },
      "source": [
        "# discovered one speech that is missing, so will remove from data\n",
        "\n",
        "potus_speech.dropna(subset=['Transcript'], inplace=True)"
      ],
      "execution_count": 18,
      "outputs": []
    },
    {
      "cell_type": "code",
      "metadata": {
        "id": "6ZMCeUlBxLia",
        "colab_type": "code",
        "colab": {
          "base_uri": "https://localhost:8080/",
          "height": 34
        },
        "outputId": "79603923-6a96-44d6-92c0-a67631fdf4b8"
      },
      "source": [
        "# verify column deleted\n",
        "\n",
        "len(potus_speech)"
      ],
      "execution_count": 19,
      "outputs": [
        {
          "output_type": "execute_result",
          "data": {
            "text/plain": [
              "991"
            ]
          },
          "metadata": {
            "tags": []
          },
          "execution_count": 19
        }
      ]
    },
    {
      "cell_type": "code",
      "metadata": {
        "id": "q3JwFZ9hxLie",
        "colab_type": "code",
        "colab": {},
        "outputId": "ae880355-d63b-416d-f41e-5d87914ac540"
      },
      "source": [
        "potus_speech.columns"
      ],
      "execution_count": null,
      "outputs": [
        {
          "output_type": "execute_result",
          "data": {
            "text/plain": [
              "Index(['Date', 'President', 'Party', 'Speech Title', 'Summary', 'Transcript',\n",
              "       'URL'],\n",
              "      dtype='object')"
            ]
          },
          "metadata": {
            "tags": []
          },
          "execution_count": 14
        }
      ]
    },
    {
      "cell_type": "markdown",
      "metadata": {
        "id": "3WrmKSxH_ZLq",
        "colab_type": "text"
      },
      "source": [
        "Create file for just text of the presidental speeches as `transcripts` >"
      ]
    },
    {
      "cell_type": "code",
      "metadata": {
        "id": "IEzrPPm3xLih",
        "colab_type": "code",
        "colab": {}
      },
      "source": [
        "transcripts = potus_speech['Transcript']"
      ],
      "execution_count": 45,
      "outputs": []
    },
    {
      "cell_type": "code",
      "metadata": {
        "scrolled": true,
        "id": "sJikvXrexLim",
        "colab_type": "code",
        "colab": {
          "base_uri": "https://localhost:8080/",
          "height": 34
        },
        "outputId": "f81a0432-ecb2-4286-a395-b01c3c25d886"
      },
      "source": [
        "# verify single column and includes all transcripts\n",
        "\n",
        "transcripts.shape"
      ],
      "execution_count": 25,
      "outputs": [
        {
          "output_type": "execute_result",
          "data": {
            "text/plain": [
              "(991,)"
            ]
          },
          "metadata": {
            "tags": []
          },
          "execution_count": 25
        }
      ]
    },
    {
      "cell_type": "code",
      "metadata": {
        "id": "kv2vaW01_-jt",
        "colab_type": "code",
        "colab": {}
      },
      "source": [
        "# save transcripts as csv\n",
        "\n",
        "transcripts.to_csv('drive/My Drive/Colab Notebooks/project_4_metis/csv/transcripts.csv')"
      ],
      "execution_count": 47,
      "outputs": []
    },
    {
      "cell_type": "markdown",
      "metadata": {
        "id": "WTCzadi7xLip",
        "colab_type": "text"
      },
      "source": [
        "-\n",
        "### NLP"
      ]
    },
    {
      "cell_type": "code",
      "metadata": {
        "id": "Cn2QVkJhxLiq",
        "colab_type": "code",
        "colab": {}
      },
      "source": [
        "potus_nlp = nlp_pipe(cleaning_function)"
      ],
      "execution_count": 22,
      "outputs": []
    },
    {
      "cell_type": "code",
      "metadata": {
        "id": "c13L08ODxLit",
        "colab_type": "code",
        "colab": {}
      },
      "source": [
        "potus_nlp.fit(transcripts)"
      ],
      "execution_count": 23,
      "outputs": []
    },
    {
      "cell_type": "code",
      "metadata": {
        "scrolled": true,
        "id": "r4hQzG8IxLiw",
        "colab_type": "code",
        "colab": {}
      },
      "source": [
        "transcripts_transformed = potus_nlp.transform(transcripts)"
      ],
      "execution_count": 24,
      "outputs": []
    },
    {
      "cell_type": "code",
      "metadata": {
        "id": "5nZaxmAjxLi1",
        "colab_type": "code",
        "colab": {
          "base_uri": "https://localhost:8080/",
          "height": 34
        },
        "outputId": "09329151-5b24-42d5-bd57-5644e9a6c32b"
      },
      "source": [
        "transcripts_transformed.shape"
      ],
      "execution_count": 26,
      "outputs": [
        {
          "output_type": "execute_result",
          "data": {
            "text/plain": [
              "(991, 32122)"
            ]
          },
          "metadata": {
            "tags": []
          },
          "execution_count": 26
        }
      ]
    },
    {
      "cell_type": "code",
      "metadata": {
        "id": "QZST2MVcxLjC",
        "colab_type": "code",
        "colab": {
          "base_uri": "https://localhost:8080/",
          "height": 170
        },
        "outputId": "58be5691-3bb1-4187-83a8-395de21fdb7d"
      },
      "source": [
        "# take a look at various words related to women and see how many times used\n",
        "\n",
        "transcripts_transformed['woman'].value_counts()"
      ],
      "execution_count": 58,
      "outputs": [
        {
          "output_type": "execute_result",
          "data": {
            "text/plain": [
              "0     864\n",
              "1      85\n",
              "2      27\n",
              "3       7\n",
              "4       5\n",
              "10      1\n",
              "7       1\n",
              "5       1\n",
              "Name: woman, dtype: int64"
            ]
          },
          "metadata": {
            "tags": []
          },
          "execution_count": 58
        }
      ]
    },
    {
      "cell_type": "code",
      "metadata": {
        "id": "lmmcK29FxLjF",
        "colab_type": "code",
        "colab": {}
      },
      "source": [
        ""
      ],
      "execution_count": null,
      "outputs": []
    },
    {
      "cell_type": "markdown",
      "metadata": {
        "id": "WrGBXdldxLjI",
        "colab_type": "text"
      },
      "source": [
        "# OLD PIPELINE TESTING - MOVED TO PY FILE & CAN DELETE ONCE CERTAIN DON'T NEED OTHER OPTIONS >>"
      ]
    },
    {
      "cell_type": "markdown",
      "metadata": {
        "id": "71F_i9fTxLjK",
        "colab_type": "text"
      },
      "source": [
        "-\n",
        "### NLP"
      ]
    },
    {
      "cell_type": "code",
      "metadata": {
        "id": "37IuZKhixLjL",
        "colab_type": "code",
        "colab": {}
      },
      "source": [
        "class nlp_pipe_v3:\n",
        "    \n",
        "    def __init__(self, \n",
        "                 cleaning_function, \n",
        "                 vectorizer=CountVectorizer(), \n",
        "                 tokenizer=TreebankWordTokenizer().tokenize, \n",
        "                 stemmer=PorterStemmer()):\n",
        "        self.vectorizer = vectorizer\n",
        "        self.cleaning_function = cleaning_function\n",
        "        self.tokenizer = tokenizer\n",
        "        self.stemmer = stemmer\n",
        "        self._is_fit = False\n",
        "    \n",
        "    def fit(self, text):\n",
        "        clean_text = self.cleaning_function(text, self.tokenizer, self.stemmer)\n",
        "        self.vectorizer.fit(clean_text)\n",
        "        self._is_fit = True\n",
        "    \n",
        "    def transform(self, text):\n",
        "        if not self._is_fit:\n",
        "            raise ValueError(\"Must fit the models before transforming!\")\n",
        "        clean_text = self.cleaning_function(text, self.tokenizer, self.stemmer)\n",
        "        \n",
        "        return self.vectorizer.transform(clean_text)"
      ],
      "execution_count": null,
      "outputs": []
    },
    {
      "cell_type": "code",
      "metadata": {
        "id": "cl5cWH1zxLjP",
        "colab_type": "code",
        "colab": {}
      },
      "source": [
        "#this is the version used in py file!\n",
        "\n",
        "class nlp_pipe_v2:\n",
        "    \n",
        "    def __init__(self, \n",
        "                 cleaning_function, \n",
        "                 vectorizer=CountVectorizer(), \n",
        "                 tokenizer=TreebankWordTokenizer().tokenize, \n",
        "                 stemmer=PorterStemmer()):\n",
        "        self.vectorizer = vectorizer\n",
        "        self.cleaning_function = cleaning_function\n",
        "        self.tokenizer = tokenizer\n",
        "        self.stemmer = stemmer\n",
        "        self._is_fit = False\n",
        "    \n",
        "    def fit(self, text):\n",
        "        clean_text = self.cleaning_function(text, self.tokenizer, self.stemmer)\n",
        "        self.vectorizer.fit(clean_text)\n",
        "        self._is_fit = True\n",
        "    \n",
        "    def transform(self, text):\n",
        "        if not self._is_fit:\n",
        "            raise ValueError(\"Must fit the models before transforming!\")\n",
        "        clean_text = self.cleaning_function(text, self.tokenizer, self.stemmer)\n",
        "        vectorized = self.vectorizer.transform(clean_text)\n",
        "        \n",
        "        return pd.DataFrame(vectorized.toarray(),\n",
        "                           columns = self.vectorizer.get_feature_names())"
      ],
      "execution_count": null,
      "outputs": []
    },
    {
      "cell_type": "code",
      "metadata": {
        "id": "EDm4ErOcxLjS",
        "colab_type": "code",
        "colab": {}
      },
      "source": [
        "# Brendan version\n",
        "\n",
        "def cleaning_function_v2(text, tokenizer, stemmer):\n",
        "    clean_text = []\n",
        "    for speech in text:\n",
        "        tokens = tokenizer(speech)\n",
        "        \n",
        "        stemmed = []\n",
        "        for token in tokens:\n",
        "            stemmed.append(stemmer.stem(token))\n",
        "            \n",
        "        clean_document = \" \".join(stemmed)\n",
        "        clean_text.append(clean_document)\n",
        "        \n",
        "    return clean_text"
      ],
      "execution_count": null,
      "outputs": []
    },
    {
      "cell_type": "code",
      "metadata": {
        "id": "6VlYpzCgxLjW",
        "colab_type": "code",
        "colab": {}
      },
      "source": [
        "# this is the version used in py file!\n",
        "# Leon version with slight edit to stem no matter what\n",
        "\n",
        "def cleaning_function_v3(text, tokenizer, stemmer):\n",
        "    cleaned_text = []\n",
        "    for words in text:\n",
        "        cleaned_words = []\n",
        "        for word in tokenizer(words):\n",
        "            low_word = stemmer.stem(word.lower())\n",
        "            cleaned_words.append(low_word)\n",
        "        cleaned_text.append(' '.join(cleaned_words))\n",
        "    return cleaned_text"
      ],
      "execution_count": null,
      "outputs": []
    },
    {
      "cell_type": "code",
      "metadata": {
        "id": "WUupGzlbxLjb",
        "colab_type": "code",
        "colab": {}
      },
      "source": [
        "nlp = nlp_pipe(cleaning_function_)"
      ],
      "execution_count": null,
      "outputs": []
    },
    {
      "cell_type": "code",
      "metadata": {
        "id": "u9lpMEaExLje",
        "colab_type": "code",
        "colab": {}
      },
      "source": [
        "nlp_v3 = nlp_pipe_v3(cleaning_function)"
      ],
      "execution_count": null,
      "outputs": []
    },
    {
      "cell_type": "code",
      "metadata": {
        "id": "7eVErBDvxLjj",
        "colab_type": "code",
        "colab": {}
      },
      "source": [
        "nlp.fit(transcripts)\n"
      ],
      "execution_count": null,
      "outputs": []
    },
    {
      "cell_type": "code",
      "metadata": {
        "id": "1X5dAUjNxLjm",
        "colab_type": "code",
        "colab": {}
      },
      "source": [
        "nlp_v2.fit(transcripts)"
      ],
      "execution_count": null,
      "outputs": []
    },
    {
      "cell_type": "code",
      "metadata": {
        "id": "POzB7logxLjo",
        "colab_type": "code",
        "colab": {}
      },
      "source": [
        "transcripts_transformed = nlp_v2.transform(transcripts)"
      ],
      "execution_count": null,
      "outputs": []
    },
    {
      "cell_type": "code",
      "metadata": {
        "id": "MHyHTBQ0xLjt",
        "colab_type": "code",
        "colab": {}
      },
      "source": [
        "transcripts_transformed."
      ],
      "execution_count": null,
      "outputs": []
    }
  ]
}