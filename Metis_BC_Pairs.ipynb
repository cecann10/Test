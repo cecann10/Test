{
 "cells": [
  {
   "cell_type": "markdown",
   "metadata": {},
   "source": [
    "## Day 1"
   ]
  },
  {
   "cell_type": "code",
   "execution_count": 50,
   "metadata": {},
   "outputs": [],
   "source": [
    "# Write a program that prints the numbers from 1 to 100. But \n",
    "# for multiples of three print “Fizz” instead of the number \n",
    "# and for the multiples of five print “Buzz”. For numbers \n",
    "# which are multiples of both three and five print “FizzBuzz”.\n",
    "\n",
    "def fizzbuzz_hundred():\n",
    "    return ['FizzBuzz' if x%3==0 and x%5==0\n",
    "            else 'Fizz' if x%3==0\n",
    "            else 'Buzz' if x%5==0\n",
    "            else x for x in list(range(1,101))]\n"
   ]
  },
  {
   "cell_type": "code",
   "execution_count": 54,
   "metadata": {},
   "outputs": [],
   "source": [
    "# Write a function that takes a list of names \n",
    "# and returns a list of lists of tuples representing pairs. \n",
    "# (Assume an even number of names, all distinct.) For example:\n",
    "# pairs_for(['Andrea', 'Bob', 'Cassandra', 'Doug'])\n",
    "\n",
    "import random\n",
    "\n",
    "def create_pairs(names_list):\n",
    "    '''\n",
    "    Takes a list of names and returns \n",
    "    a list of lists of tuples\n",
    "    representing pairs.\n",
    "    '''\n",
    "    pairs = []\n",
    "    while len(names_list)>1:\n",
    "        indx1 = random.randrange(0, len(names_list))\n",
    "        name1 = names_list.pop(indx1)\n",
    "        \n",
    "        indx2 = random.randrange(0, len(names_list))\n",
    "        name2 = names_list.pop(indx2)\n",
    "    \n",
    "        pairs.append((name1,name2))\n",
    "\n",
    "    return pairs"
   ]
  },
  {
   "cell_type": "code",
   "execution_count": 58,
   "metadata": {
    "scrolled": true
   },
   "outputs": [
    {
     "data": {
      "text/plain": [
       "[('Doug', 'Marcie'), ('Garrett', 'Bob'), ('Andrea', 'Cassandra')]"
      ]
     },
     "execution_count": 58,
     "metadata": {},
     "output_type": "execute_result"
    }
   ],
   "source": [
    "# Testing create_pairs above function\n",
    "\n",
    "test_list = ['Andrea', 'Bob', 'Cassandra', 'Doug','Garrett','Marcie']\n",
    "\n",
    "create_pairs(test_list)\n"
   ]
  },
  {
   "cell_type": "markdown",
   "metadata": {},
   "source": [
    "## Day 2"
   ]
  },
  {
   "cell_type": "code",
   "execution_count": 1,
   "metadata": {},
   "outputs": [],
   "source": [
    "# What is the largest prime factor of the number 600851475143 ?\n",
    "\n",
    "def largest_prime_factor(num):\n",
    "    i=1\n",
    "    primes = []\n",
    "    while(i<=num):\n",
    "        k=0\n",
    "        if(num%i==0):\n",
    "            j=1\n",
    "            while(j<=i):\n",
    "                if(num%j==0):\n",
    "                    k=k+1\n",
    "                j=j+1\n",
    "            if(k==2):\n",
    "                primes.append(i)\n",
    "        i=i+1\n",
    "    return (max(primes))"
   ]
  },
  {
   "cell_type": "markdown",
   "metadata": {},
   "source": [
    "## Day 3"
   ]
  },
  {
   "cell_type": "code",
   "execution_count": 21,
   "metadata": {},
   "outputs": [
    {
     "data": {
      "text/plain": [
       "'fedcba'"
      ]
     },
     "execution_count": 21,
     "metadata": {},
     "output_type": "execute_result"
    }
   ],
   "source": [
    "# Given a string, write a function to reverse it. Do this using a loop, if possible.\n",
    "# Example: reverseString('abcdef') will return 'fedcba'\n",
    "# Example: reverseString('moon') will return 'noom'\n",
    "\n",
    "str1 = 'abcdef'\n",
    "\n",
    "#this works but is it technically a loop?\n",
    "def reverse_str(string):\n",
    "    return string[::-1]\n",
    "\n",
    "reverse_str(str1)"
   ]
  },
  {
   "cell_type": "code",
   "execution_count": 22,
   "metadata": {},
   "outputs": [
    {
     "data": {
      "text/plain": [
       "'fedcba'"
      ]
     },
     "execution_count": 22,
     "metadata": {},
     "output_type": "execute_result"
    }
   ],
   "source": [
    "#here it is with a loop...but seems more complicated?\n",
    "\n",
    "def reverse_str_v2(string):\n",
    "    let_list = []\n",
    "    for x in range(0,len(string)):\n",
    "        let_list.insert(0,string[x])\n",
    "    return(''.join(let_list))\n",
    "\n",
    "reverse_str_v2(str1)"
   ]
  },
  {
   "cell_type": "code",
   "execution_count": null,
   "metadata": {},
   "outputs": [],
   "source": [
    "# PROBLEM 2\n",
    "# Sal's classroom has a bag of alphabet magnets. She wants to know \n",
    "# if she can spell her friend's name using the letters in the bag. \n",
    "# Write a function that will take a list of letters and a name and \n",
    "# print out yes if the name can be spelled and no otherwise.\n",
    "\n",
    "# Example 1: CanYouSpell(['y','n','p','g','n','l'],\"lynn\") would print YES\n",
    "# Example 2: CanYouSpell(['y','n','p','g','l'],\"lynn\") would print NO"
   ]
  },
  {
   "cell_type": "code",
   "execution_count": null,
   "metadata": {},
   "outputs": [],
   "source": []
  },
  {
   "cell_type": "markdown",
   "metadata": {},
   "source": [
    "## Day 4"
   ]
  },
  {
   "cell_type": "code",
   "execution_count": 103,
   "metadata": {},
   "outputs": [],
   "source": [
    "# Write a function that takes in a number between 1 and 100 \n",
    "# and tries to guess it. Based on whether a guess is larger \n",
    "# or smaller than the input number, the code would come up \n",
    "# with a new guess until it gets it right.\n",
    "\n",
    "def guess_my_num(number):\n",
    "    guess = random.randint(1,100)\n",
    "    count = 0\n",
    "    while guess != number:\n",
    "        count += 1\n",
    "        if guess > number:\n",
    "            guess -= 1\n",
    "            guess = random.randint(1, guess)\n",
    "        else:\n",
    "            guess += 1\n",
    "            guess = random.randint(guess, 100)\n",
    "    return f'I got it right in {count} tries.'\n",
    "    "
   ]
  },
  {
   "cell_type": "code",
   "execution_count": 106,
   "metadata": {},
   "outputs": [
    {
     "data": {
      "text/plain": [
       "'I got it right in 59 tries.'"
      ]
     },
     "execution_count": 106,
     "metadata": {},
     "output_type": "execute_result"
    }
   ],
   "source": [
    "# Testing guess_my_num function\n",
    "\n",
    "guess_my_num(87)"
   ]
  },
  {
   "cell_type": "code",
   "execution_count": 14,
   "metadata": {},
   "outputs": [
    {
     "data": {
      "text/plain": [
       "70573265280"
      ]
     },
     "execution_count": 14,
     "metadata": {},
     "output_type": "execute_result"
    }
   ],
   "source": [
    "# Find the thirteen adjacent digits in a given \n",
    "# 1000-digit number that have the greatest product. \n",
    "# What is the value of this product?\n",
    "\n",
    "thous_digit_num = \\\n",
    "'''73167176531330624919225119674426574742355349194934\\\n",
    "96983520312774506326239578318016984801869478851843\\\n",
    "85861560789112949495459501737958331952853208805511\\\n",
    "12540698747158523863050715693290963295227443043557\\\n",
    "66896648950445244523161731856403098711121722383113\\\n",
    "62229893423380308135336276614282806444486645238749\\\n",
    "30358907296290491560440772390713810515859307960866\\\n",
    "70172427121883998797908792274921901699720888093776\\\n",
    "65727333001053367881220235421809751254540594752243\\\n",
    "52584907711670556013604839586446706324415722155397\\\n",
    "53697817977846174064955149290862569321978468622482\\\n",
    "83972241375657056057490261407972968652414535100474\\\n",
    "82166370484403199890008895243450658541227588666881\\\n",
    "16427171479924442928230863465674813919123162824586\\\n",
    "17866458359124566529476545682848912883142607690042\\\n",
    "24219022671055626321111109370544217506941658960408\\\n",
    "07198403850962455444362981230987879927244284909188\\\n",
    "84580156166097919133875499200524063689912560717606\\\n",
    "05886116467109405077541002256983155200055935729725\\\n",
    "71636269561882670428252483600823257530420752963450\\\n",
    "'''\n",
    "\n",
    "#exclude if includes zeros\n",
    "import numpy as np\n",
    "\n",
    "# version as asked to just show product result\n",
    "def greatest_product(number,adjacent_digits):\n",
    "    thous_list = list(number)\n",
    "    products_list = []\n",
    "    for i in range(0,987):\n",
    "        if '0' not in thous_list[i:i+adjacent_digits+1]:\n",
    "            numbers = [int(x) for x in thous_list[i:i+adjacent_digits+1]]\n",
    "            product = np.prod(numbers)\n",
    "            products_list.append(product)\n",
    "    return (max(products_list))\n",
    "\n",
    "\n",
    "#test of function above\n",
    "\n",
    "\n",
    "greatest_product(thous_digit_num,13)"
   ]
  },
  {
   "cell_type": "code",
   "execution_count": 15,
   "metadata": {},
   "outputs": [
    {
     "data": {
      "text/plain": [
       "'70573265280, the product of [9, 7, 5, 3, 6, 9, 7, 8, 1, 7, 9, 7, 7, 8]'"
      ]
     },
     "execution_count": 15,
     "metadata": {},
     "output_type": "execute_result"
    }
   ],
   "source": [
    "# version to also show numbers to get to product\n",
    "import timeit\n",
    "\n",
    "def greatest_product_v2(number,adjacent_digits):\n",
    "    thous_list = list(number)\n",
    "    products_dict = {}\n",
    "    for i in range(0,987):\n",
    "        if '0' not in thous_list[i:i+adjacent_digits+1]:\n",
    "            numbers = [int(x) for x in thous_list[i:i+adjacent_digits+1]]\n",
    "            product = np.prod(numbers)\n",
    "            products_dict[product] = numbers\n",
    "    return (f'{max(products_dict)}, the product of {products_dict[max(products_dict)]}')\n",
    "\n",
    "#test of function above\n",
    "\n",
    "greatest_product_v2(thous_digit_num,13)"
   ]
  },
  {
   "cell_type": "markdown",
   "metadata": {},
   "source": [
    "## Week 2: Thursday"
   ]
  },
  {
   "cell_type": "code",
   "execution_count": 8,
   "metadata": {},
   "outputs": [],
   "source": [
    "import numpy as np"
   ]
  },
  {
   "cell_type": "code",
   "execution_count": null,
   "metadata": {},
   "outputs": [],
   "source": [
    "X = [[5,3,7],\n",
    "     [2,4,1]]"
   ]
  },
  {
   "cell_type": "code",
   "execution_count": null,
   "metadata": {},
   "outputs": [],
   "source": [
    "y = [537,241]"
   ]
  },
  {
   "cell_type": "code",
   "execution_count": 9,
   "metadata": {},
   "outputs": [
    {
     "ename": "TypeError",
     "evalue": "'builtin_function_or_method' object is not subscriptable",
     "output_type": "error",
     "traceback": [
      "\u001b[0;31m---------------------------------------------------------------------------\u001b[0m",
      "\u001b[0;31mTypeError\u001b[0m                                 Traceback (most recent call last)",
      "\u001b[0;32m<ipython-input-9-d078203c9bf3>\u001b[0m in \u001b[0;36m<module>\u001b[0;34m\u001b[0m\n\u001b[0;32m----> 1\u001b[0;31m \u001b[0mX\u001b[0m \u001b[0;34m=\u001b[0m \u001b[0mnp\u001b[0m\u001b[0;34m.\u001b[0m\u001b[0marray\u001b[0m\u001b[0;34m[\u001b[0m\u001b[0;34m[\u001b[0m\u001b[0;36m2\u001b[0m\u001b[0;34m,\u001b[0m\u001b[0;36m0\u001b[0m\u001b[0;34m]\u001b[0m\u001b[0;34m]\u001b[0m\u001b[0;34m\u001b[0m\u001b[0;34m\u001b[0m\u001b[0m\n\u001b[0m",
      "\u001b[0;31mTypeError\u001b[0m: 'builtin_function_or_method' object is not subscriptable"
     ]
    }
   ],
   "source": [
    "X = np.array[[2,0]] "
   ]
  },
  {
   "cell_type": "code",
   "execution_count": 13,
   "metadata": {},
   "outputs": [
    {
     "data": {
      "text/plain": [
       "array([2, 0])"
      ]
     },
     "execution_count": 13,
     "metadata": {},
     "output_type": "execute_result"
    }
   ],
   "source": [
    "np.array([2,0])"
   ]
  },
  {
   "cell_type": "code",
   "execution_count": 17,
   "metadata": {},
   "outputs": [],
   "source": [
    "X = np.array([[2, 4]])\n",
    "w = np.array([0,2])"
   ]
  },
  {
   "cell_type": "code",
   "execution_count": 18,
   "metadata": {},
   "outputs": [
    {
     "data": {
      "text/plain": [
       "array([8])"
      ]
     },
     "execution_count": 18,
     "metadata": {},
     "output_type": "execute_result"
    }
   ],
   "source": [
    "np.dot(X,w)"
   ]
  },
  {
   "cell_type": "code",
   "execution_count": 29,
   "metadata": {},
   "outputs": [
    {
     "data": {
      "text/plain": [
       "array([ 0. ,  0.1,  0.2,  0.3,  0.4,  0.5,  0.6,  0.7,  0.8,  0.9,  1. ,\n",
       "        1.1,  1.2,  1.3,  1.4,  1.5,  1.6,  1.7,  1.8,  1.9,  2. ,  2.1,\n",
       "        2.2,  2.3,  2.4,  2.5,  2.6,  2.7,  2.8,  2.9,  3. ,  3.1,  3.2,\n",
       "        3.3,  3.4,  3.5,  3.6,  3.7,  3.8,  3.9,  4. ,  4.1,  4.2,  4.3,\n",
       "        4.4,  4.5,  4.6,  4.7,  4.8,  4.9,  5. ,  5.1,  5.2,  5.3,  5.4,\n",
       "        5.5,  5.6,  5.7,  5.8,  5.9,  6. ,  6.1,  6.2,  6.3,  6.4,  6.5,\n",
       "        6.6,  6.7,  6.8,  6.9,  7. ,  7.1,  7.2,  7.3,  7.4,  7.5,  7.6,\n",
       "        7.7,  7.8,  7.9,  8. ,  8.1,  8.2,  8.3,  8.4,  8.5,  8.6,  8.7,\n",
       "        8.8,  8.9,  9. ,  9.1,  9.2,  9.3,  9.4,  9.5,  9.6,  9.7,  9.8,\n",
       "        9.9, 10. ])"
      ]
     },
     "execution_count": 29,
     "metadata": {},
     "output_type": "execute_result"
    }
   ],
   "source": [
    "np.linspace(0,10,101)"
   ]
  },
  {
   "cell_type": "code",
   "execution_count": null,
   "metadata": {},
   "outputs": [],
   "source": []
  },
  {
   "cell_type": "code",
   "execution_count": 1,
   "metadata": {},
   "outputs": [
    {
     "data": {
      "text/plain": [
       "308915776"
      ]
     },
     "execution_count": 1,
     "metadata": {},
     "output_type": "execute_result"
    }
   ],
   "source": [
    "26**6"
   ]
  },
  {
   "cell_type": "code",
   "execution_count": 2,
   "metadata": {},
   "outputs": [
    {
     "data": {
      "text/plain": [
       "22612312022829428315162658691406250000000000000000000000000000000000000000000000000000000"
      ]
     },
     "execution_count": 2,
     "metadata": {},
     "output_type": "execute_result"
    }
   ],
   "source": [
    "52*51*50**49*48/5!"
   ]
  },
  {
   "cell_type": "code",
   "execution_count": null,
   "metadata": {},
   "outputs": [],
   "source": [
    "6!/6**6"
   ]
  }
 ],
 "metadata": {
  "kernelspec": {
   "display_name": "Python 3",
   "language": "python",
   "name": "python3"
  },
  "language_info": {
   "codemirror_mode": {
    "name": "ipython",
    "version": 3
   },
   "file_extension": ".py",
   "mimetype": "text/x-python",
   "name": "python",
   "nbconvert_exporter": "python",
   "pygments_lexer": "ipython3",
   "version": "3.7.4"
  }
 },
 "nbformat": 4,
 "nbformat_minor": 2
}
