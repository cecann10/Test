{
 "cells": [
  {
   "cell_type": "markdown",
   "metadata": {},
   "source": [
    "## Day 1"
   ]
  },
  {
   "cell_type": "code",
   "execution_count": 83,
   "metadata": {
    "collapsed": true
   },
   "outputs": [
    {
     "data": {
      "text/plain": [
       "[1,\n",
       " 2,\n",
       " 'Fizz',\n",
       " 4,\n",
       " 'Buzz',\n",
       " 'Fizz',\n",
       " 7,\n",
       " 8,\n",
       " 'Fizz',\n",
       " 'Buzz',\n",
       " 11,\n",
       " 'Fizz',\n",
       " 13,\n",
       " 14,\n",
       " 'FizzBuzz',\n",
       " 16,\n",
       " 17,\n",
       " 'Fizz',\n",
       " 19,\n",
       " 'Buzz',\n",
       " 'Fizz',\n",
       " 22,\n",
       " 23,\n",
       " 'Fizz',\n",
       " 'Buzz',\n",
       " 26,\n",
       " 'Fizz',\n",
       " 28,\n",
       " 29,\n",
       " 'FizzBuzz',\n",
       " 31,\n",
       " 32,\n",
       " 'Fizz',\n",
       " 34,\n",
       " 'Buzz',\n",
       " 'Fizz',\n",
       " 37,\n",
       " 38,\n",
       " 'Fizz',\n",
       " 'Buzz',\n",
       " 41,\n",
       " 'Fizz',\n",
       " 43,\n",
       " 44,\n",
       " 'FizzBuzz',\n",
       " 46,\n",
       " 47,\n",
       " 'Fizz',\n",
       " 49,\n",
       " 'Buzz',\n",
       " 'Fizz',\n",
       " 52,\n",
       " 53,\n",
       " 'Fizz',\n",
       " 'Buzz',\n",
       " 56,\n",
       " 'Fizz',\n",
       " 58,\n",
       " 59,\n",
       " 'FizzBuzz',\n",
       " 61,\n",
       " 62,\n",
       " 'Fizz',\n",
       " 64,\n",
       " 'Buzz',\n",
       " 'Fizz',\n",
       " 67,\n",
       " 68,\n",
       " 'Fizz',\n",
       " 'Buzz',\n",
       " 71,\n",
       " 'Fizz',\n",
       " 73,\n",
       " 74,\n",
       " 'FizzBuzz',\n",
       " 76,\n",
       " 77,\n",
       " 'Fizz',\n",
       " 79,\n",
       " 'Buzz',\n",
       " 'Fizz',\n",
       " 82,\n",
       " 83,\n",
       " 'Fizz',\n",
       " 'Buzz',\n",
       " 86,\n",
       " 'Fizz',\n",
       " 88,\n",
       " 89,\n",
       " 'FizzBuzz',\n",
       " 91,\n",
       " 92,\n",
       " 'Fizz',\n",
       " 94,\n",
       " 'Buzz',\n",
       " 'Fizz',\n",
       " 97,\n",
       " 98,\n",
       " 'Fizz',\n",
       " 'Buzz']"
      ]
     },
     "execution_count": 83,
     "metadata": {},
     "output_type": "execute_result"
    }
   ],
   "source": [
    "# Write a program that prints the numbers from 1 to 100. But \n",
    "# for multiples of three print “Fizz” instead of the number \n",
    "# and for the multiples of five print “Buzz”. For numbers \n",
    "# which are multiples of both three and five print “FizzBuzz”.\n",
    "\n",
    "def fizzbuzz_hundred():\n",
    "    return ['FizzBuzz' if x%3==0 and x%5==0\n",
    "            else 'Fizz' if x%3==0\n",
    "            else 'Buzz' if x%5==0\n",
    "            else x for x in list(range(1,101))]\n",
    "    \n",
    "fizzbuzz_hundred()"
   ]
  },
  {
   "cell_type": "code",
   "execution_count": 74,
   "metadata": {},
   "outputs": [],
   "source": [
    "# Write a function that takes a list of names \n",
    "# and returns a list of lists of tuples representing pairs. \n",
    "# (Assume an even number of names, all distinct.) For example:\n",
    "# pairs_for(['Andrea', 'Bob', 'Cassandra', 'Doug'])\n",
    "\n",
    "import random\n",
    "\n",
    "def create_pairs(names_list):\n",
    "    '''\n",
    "    Takes a list of names and returns \n",
    "    a list of lists of tuples\n",
    "    representing pairs.\n",
    "    '''\n",
    "    pairs = []\n",
    "    while len(names_list)>1:\n",
    "        indx1 = random.randrange(0, len(names_list))\n",
    "        name1 = names_list.pop(indx1)\n",
    "        \n",
    "        indx2 = random.randrange(0, len(names_list))\n",
    "        name2 = names_list.pop(indx2)\n",
    "    \n",
    "        pairs.append((name1,name2))\n",
    "\n",
    "    return pairs"
   ]
  },
  {
   "cell_type": "code",
   "execution_count": 91,
   "metadata": {
    "scrolled": true
   },
   "outputs": [
    {
     "data": {
      "text/plain": [
       "[('Cassandra', 'Andrea'), ('Bob', 'Doug'), ('Marcie', 'Garrett')]"
      ]
     },
     "execution_count": 91,
     "metadata": {},
     "output_type": "execute_result"
    }
   ],
   "source": [
    "# Testing create_pairs above function\n",
    "\n",
    "test_list = ['Andrea', 'Bob', 'Cassandra', 'Doug','Garrett','Marcie']\n",
    "\n",
    "create_pairs(test_list)"
   ]
  },
  {
   "cell_type": "markdown",
   "metadata": {},
   "source": [
    "## Day 2"
   ]
  },
  {
   "cell_type": "code",
   "execution_count": 14,
   "metadata": {},
   "outputs": [
    {
     "name": "stdout",
     "output_type": "stream",
     "text": [
      "600851475143\n"
     ]
    }
   ],
   "source": [
    "# The prime factors of 13195 are 5, 7, 13 and 29.\n",
    "# What is the largest prime factor of the number 600851475143 ?\n",
    "\n",
    "# Find the prime numbers\n",
    "# Starting with largest, try dividing into main number until floor is 0\n",
    "\n",
    "# Rules:\n",
    "# The only even prime number is 2. All other even numbers can be divided by 2.\n",
    "# the sum of a number's digits is a multiple of 3, that number can be divided by 3.\n",
    "# No prime number greater than 5 ends in a 5. Any number greater than 5 that ends in a 5 can be divided by 5.\n",
    "\n",
    "def prime_num(num):\n",
    "    while num%2==0:\n",
    "        num = num/2\n",
    "    while num%3==0:\n",
    "        num = num/3\n",
    "    while num%5==0:\n",
    "        num = num/3\n",
    "    print(num)\n",
    "              \n",
    "# Answer to problem\n",
    "prime_num(600851475143)\n",
    "        "
   ]
  },
  {
   "cell_type": "code",
   "execution_count": 13,
   "metadata": {},
   "outputs": [
    {
     "name": "stdout",
     "output_type": "stream",
     "text": [
      "600851475143\n"
     ]
    }
   ],
   "source": [
    "prime_num(600851475143)"
   ]
  },
  {
   "cell_type": "code",
   "execution_count": 20,
   "metadata": {},
   "outputs": [],
   "source": [
    "def largest_prime_factor(num):\n",
    "    prime_nums = []\n",
    "    for number in (range(0,num)):\n",
    "        if number in [2,3,5]:\n",
    "            prime_nums.append(number)\n",
    "        if number%2 != 0 and number%3 != 0 and number%5 != 0:\n",
    "            prime_nums.append(number)\n",
    "    \n",
    "    return(max(prime_nums))"
   ]
  },
  {
   "cell_type": "code",
   "execution_count": 21,
   "metadata": {},
   "outputs": [
    {
     "data": {
      "text/plain": [
       "101"
      ]
     },
     "execution_count": 21,
     "metadata": {},
     "output_type": "execute_result"
    }
   ],
   "source": [
    "largest_prime_factor(103)"
   ]
  },
  {
   "cell_type": "markdown",
   "metadata": {},
   "source": [
    "## Day 3"
   ]
  },
  {
   "cell_type": "code",
   "execution_count": null,
   "metadata": {},
   "outputs": [],
   "source": []
  },
  {
   "cell_type": "code",
   "execution_count": null,
   "metadata": {},
   "outputs": [],
   "source": []
  },
  {
   "cell_type": "code",
   "execution_count": null,
   "metadata": {},
   "outputs": [],
   "source": []
  },
  {
   "cell_type": "markdown",
   "metadata": {},
   "source": [
    "## Day 4"
   ]
  },
  {
   "cell_type": "code",
   "execution_count": 103,
   "metadata": {},
   "outputs": [],
   "source": [
    "# Write a function that takes in a number between 1 and 100 \n",
    "# and tries to guess it. Based on whether a guess is larger \n",
    "# or smaller than the input number, the code would come up \n",
    "# with a new guess until it gets it right.\n",
    "\n",
    "def guess_my_num(number):\n",
    "    guess = random.randint(1,100)\n",
    "    count = 0\n",
    "    while guess != number:\n",
    "        count += 1\n",
    "        if guess > number:\n",
    "            guess -= 1\n",
    "            guess = random.randint(1, guess)\n",
    "        else:\n",
    "            guess += 1\n",
    "            guess = random.randint(guess, 100)\n",
    "    return f'I got it right in {count} tries.'\n",
    "    "
   ]
  },
  {
   "cell_type": "code",
   "execution_count": 106,
   "metadata": {},
   "outputs": [
    {
     "data": {
      "text/plain": [
       "'I got it right in 59 tries.'"
      ]
     },
     "execution_count": 106,
     "metadata": {},
     "output_type": "execute_result"
    }
   ],
   "source": [
    "# Testing guess_my_num function\n",
    "\n",
    "guess_my_num(87)"
   ]
  },
  {
   "cell_type": "code",
   "execution_count": 256,
   "metadata": {},
   "outputs": [
    {
     "data": {
      "text/plain": [
       "70573265280"
      ]
     },
     "execution_count": 256,
     "metadata": {},
     "output_type": "execute_result"
    }
   ],
   "source": [
    "# Find the thirteen adjacent digits in a given \n",
    "# 1000-digit number that have the greatest product. \n",
    "# What is the value of this product?\n",
    "\n",
    "thous_digit_num = int('''73167176531330624919225119674426574742355349194934\\\n",
    "96983520312774506326239578318016984801869478851843\\\n",
    "85861560789112949495459501737958331952853208805511\\\n",
    "12540698747158523863050715693290963295227443043557\\\n",
    "66896648950445244523161731856403098711121722383113\\\n",
    "62229893423380308135336276614282806444486645238749\\\n",
    "30358907296290491560440772390713810515859307960866\\\n",
    "70172427121883998797908792274921901699720888093776\\\n",
    "65727333001053367881220235421809751254540594752243\\\n",
    "52584907711670556013604839586446706324415722155397\\\n",
    "53697817977846174064955149290862569321978468622482\\\n",
    "83972241375657056057490261407972968652414535100474\\\n",
    "82166370484403199890008895243450658541227588666881\\\n",
    "16427171479924442928230863465674813919123162824586\\\n",
    "17866458359124566529476545682848912883142607690042\\\n",
    "24219022671055626321111109370544217506941658960408\\\n",
    "07198403850962455444362981230987879927244284909188\\\n",
    "84580156166097919133875499200524063689912560717606\\\n",
    "05886116467109405077541002256983155200055935729725\\\n",
    "71636269561882670428252483600823257530420752963450\\\n",
    "''')\n",
    "\n",
    "#exclude if includes zeros\n",
    "import numpy as np\n",
    "\n",
    "\n",
    "\n",
    "\n",
    "# version as asked to just show product result\n",
    "def greatest_product(number,adjacent_digits):\n",
    "    thous_list = list(str(number))\n",
    "    products_list = []\n",
    "    for i in range(0,987):\n",
    "        if '0' not in thous_list[i:i+adjacent_digits+1]:\n",
    "            numbers = [int(x) for x in thous_list[i:i+adjacent_digits+1]]\n",
    "            product = np.prod(numbers)\n",
    "            products_list.append(product)\n",
    "    return (max(products_list))\n",
    "\n",
    "\n",
    "#test of function above\n",
    "\n",
    "greatest_product(thous_digit_num,13)"
   ]
  },
  {
   "cell_type": "code",
   "execution_count": 258,
   "metadata": {},
   "outputs": [
    {
     "data": {
      "text/plain": [
       "'70573265280, the product of [9, 7, 5, 3, 6, 9, 7, 8, 1, 7, 9, 7, 7, 8]'"
      ]
     },
     "execution_count": 258,
     "metadata": {},
     "output_type": "execute_result"
    }
   ],
   "source": [
    "# version to also show numbers to get to product\n",
    "\n",
    "def greatest_product_v2(number,adjacent_digits):\n",
    "    products_dict = {}\n",
    "    for i in range(0,987):\n",
    "        if '0' not in thous_list[i:i+adjacent_digits+1]:\n",
    "            numbers = [int(x) for x in thous_list[i:i+adjacent_digits+1]]\n",
    "            product = np.prod(numbers)\n",
    "            products_dict[product] = numbers\n",
    "    return (f'{max(products_dict)}, the product of {products_dict[max(products_dict)]}')\n",
    "\n",
    "#test of function above\n",
    "\n",
    "greatest_product_v2(thous_digit_num,13)"
   ]
  },
  {
   "cell_type": "code",
   "execution_count": null,
   "metadata": {},
   "outputs": [],
   "source": []
  },
  {
   "cell_type": "code",
   "execution_count": null,
   "metadata": {},
   "outputs": [],
   "source": []
  },
  {
   "cell_type": "code",
   "execution_count": null,
   "metadata": {},
   "outputs": [],
   "source": []
  }
 ],
 "metadata": {
  "kernelspec": {
   "display_name": "Python 3",
   "language": "python",
   "name": "python3"
  },
  "language_info": {
   "codemirror_mode": {
    "name": "ipython",
    "version": 3
   },
   "file_extension": ".py",
   "mimetype": "text/x-python",
   "name": "python",
   "nbconvert_exporter": "python",
   "pygments_lexer": "ipython3",
   "version": "3.7.4"
  }
 },
 "nbformat": 4,
 "nbformat_minor": 2
}
