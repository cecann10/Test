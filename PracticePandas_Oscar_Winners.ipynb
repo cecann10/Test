{
 "cells": [
  {
   "cell_type": "code",
   "execution_count": 207,
   "metadata": {},
   "outputs": [],
   "source": [
    "import numpy as np\n",
    "import pandas as pd\n",
    "import scipy.stats as stats"
   ]
  },
  {
   "cell_type": "code",
   "execution_count": 208,
   "metadata": {},
   "outputs": [],
   "source": [
    "female_oscars_df = pd.read_csv(\"https://people.sc.fsu.edu/~jburkardt/data/csv/oscar_age_female.csv\")\n",
    "male_oscars_df = pd.read_csv(\"https://people.sc.fsu.edu/~jburkardt/data/csv/oscar_age_male.csv\")"
   ]
  },
  {
   "cell_type": "code",
   "execution_count": 209,
   "metadata": {},
   "outputs": [],
   "source": [
    "# change column names to be correct and not have quotation marks\n",
    "# note 'unknown' added where data meaning is unknown and needs more\n",
    "# exploration\n",
    "\n",
    "female_oscars_columns = ['Year','Age','Name','Movie','Unknown']\n",
    "female_oscars_df.columns = female_oscars_columns"
   ]
  },
  {
   "cell_type": "code",
   "execution_count": 210,
   "metadata": {},
   "outputs": [],
   "source": [
    "#Changing index to start with zero\n",
    "\n",
    "female_oscars_df.index = range(0,89)"
   ]
  },
  {
   "cell_type": "code",
   "execution_count": 211,
   "metadata": {
    "scrolled": true
   },
   "outputs": [
    {
     "data": {
      "text/plain": [
       "array([' Street Angel and Sunrise: A Song of Two Humans\"', nan,\n",
       "       ' Little Sheba\"'], dtype=object)"
      ]
     },
     "execution_count": 211,
     "metadata": {},
     "output_type": "execute_result"
    }
   ],
   "source": [
    "# Finding out what is in Unknown column for examination\n",
    "\n",
    "female_oscars_df.Unknown.unique()"
   ]
  },
  {
   "cell_type": "code",
   "execution_count": 212,
   "metadata": {},
   "outputs": [],
   "source": [
    "# remove quotation marks around names and movies\n",
    "\n",
    "female_oscars_df['Name'] = female_oscars_df.Name.str.strip(' \"')\n",
    "female_oscars_df['Movie'] = female_oscars_df.Movie.str.strip(' \"')\n",
    "female_oscars_df['Unknown'] = female_oscars_df.Unknown.str.strip(' \"')"
   ]
  },
  {
   "cell_type": "code",
   "execution_count": 213,
   "metadata": {},
   "outputs": [],
   "source": [
    "# After research, found Unknown column includes additional \n",
    "# movies that person won the best actress winner for, so going to \n",
    "# combine data where needed\n",
    "\n",
    "combined_column = female_oscars_df['Movie'].fillna('') + \"; \" + female_oscars_df['Unknown'].fillna('')\n",
    "female_oscars_df['Movie_v2'] = combined_column.str.strip('\"\\t ;')"
   ]
  },
  {
   "cell_type": "code",
   "execution_count": 214,
   "metadata": {},
   "outputs": [],
   "source": [
    "del female_oscars_df['Movie']"
   ]
  },
  {
   "cell_type": "code",
   "execution_count": 215,
   "metadata": {},
   "outputs": [],
   "source": [
    "del female_oscars_df['Unknown']"
   ]
  },
  {
   "cell_type": "code",
   "execution_count": 216,
   "metadata": {},
   "outputs": [],
   "source": [
    "female_oscars_df.rename(columns={'Movie_v2': 'Movie'}, inplace = True)"
   ]
  },
  {
   "cell_type": "code",
   "execution_count": 217,
   "metadata": {},
   "outputs": [],
   "source": [
    "female_oscars_df.iloc[0,3] = 'Seventh Heaven; Street Angel; Sunrise: A Song of Two Humans'"
   ]
  },
  {
   "cell_type": "code",
   "execution_count": 218,
   "metadata": {},
   "outputs": [
    {
     "data": {
      "text/html": [
       "<div>\n",
       "<style scoped>\n",
       "    .dataframe tbody tr th:only-of-type {\n",
       "        vertical-align: middle;\n",
       "    }\n",
       "\n",
       "    .dataframe tbody tr th {\n",
       "        vertical-align: top;\n",
       "    }\n",
       "\n",
       "    .dataframe thead th {\n",
       "        text-align: right;\n",
       "    }\n",
       "</style>\n",
       "<table border=\"1\" class=\"dataframe\">\n",
       "  <thead>\n",
       "    <tr style=\"text-align: right;\">\n",
       "      <th></th>\n",
       "      <th>Year</th>\n",
       "      <th>Age</th>\n",
       "      <th>Name</th>\n",
       "      <th>Movie</th>\n",
       "    </tr>\n",
       "  </thead>\n",
       "  <tbody>\n",
       "    <tr>\n",
       "      <th>0</th>\n",
       "      <td>1928</td>\n",
       "      <td>22</td>\n",
       "      <td>Janet Gaynor</td>\n",
       "      <td>Seventh Heaven; Street Angel; Sunrise: A Song ...</td>\n",
       "    </tr>\n",
       "    <tr>\n",
       "      <th>1</th>\n",
       "      <td>1929</td>\n",
       "      <td>37</td>\n",
       "      <td>Mary Pickford</td>\n",
       "      <td>Coquette</td>\n",
       "    </tr>\n",
       "    <tr>\n",
       "      <th>2</th>\n",
       "      <td>1930</td>\n",
       "      <td>28</td>\n",
       "      <td>Norma Shearer</td>\n",
       "      <td>The Divorcee</td>\n",
       "    </tr>\n",
       "    <tr>\n",
       "      <th>3</th>\n",
       "      <td>1931</td>\n",
       "      <td>63</td>\n",
       "      <td>Marie Dressler</td>\n",
       "      <td>Min and Bill</td>\n",
       "    </tr>\n",
       "    <tr>\n",
       "      <th>4</th>\n",
       "      <td>1932</td>\n",
       "      <td>32</td>\n",
       "      <td>Helen Hayes</td>\n",
       "      <td>The Sin of Madelon Claudet</td>\n",
       "    </tr>\n",
       "  </tbody>\n",
       "</table>\n",
       "</div>"
      ],
      "text/plain": [
       "   Year  Age            Name  \\\n",
       "0  1928   22    Janet Gaynor   \n",
       "1  1929   37   Mary Pickford   \n",
       "2  1930   28   Norma Shearer   \n",
       "3  1931   63  Marie Dressler   \n",
       "4  1932   32     Helen Hayes   \n",
       "\n",
       "                                               Movie  \n",
       "0  Seventh Heaven; Street Angel; Sunrise: A Song ...  \n",
       "1                                           Coquette  \n",
       "2                                       The Divorcee  \n",
       "3                                       Min and Bill  \n",
       "4                         The Sin of Madelon Claudet  "
      ]
     },
     "execution_count": 218,
     "metadata": {},
     "output_type": "execute_result"
    }
   ],
   "source": [
    "female_oscars_df.head()"
   ]
  },
  {
   "cell_type": "code",
   "execution_count": 219,
   "metadata": {},
   "outputs": [],
   "source": [
    "def female_oscar_winner(year_ask):\n",
    "    '''\n",
    "    Finds winner of Oscar for Best Actress between\n",
    "    years of 1928 and 2016.\n",
    "    ---\n",
    "    Input: numeric year between 1928 and 2016\n",
    "    Output: A string stating actress and movie that won Oscar of input year.\n",
    "    '''\n",
    "    for index, year in enumerate(female_oscars_df.Year):\n",
    "        if year_ask == year:\n",
    "            return f'''In {female_oscars_df.Year[index]} {female_oscars_df.Name[index]}\\\n",
    " won the Best Actress Oscar for her role in {female_oscars_df.Movie[index]}.'''\n"
   ]
  },
  {
   "cell_type": "code",
   "execution_count": 220,
   "metadata": {},
   "outputs": [
    {
     "data": {
      "text/plain": [
       "'In 1949 Olivia de Havilland won the Best Actress Oscar for her role in The Heiress.'"
      ]
     },
     "execution_count": 220,
     "metadata": {},
     "output_type": "execute_result"
    }
   ],
   "source": [
    "female_oscar_winner(1949)"
   ]
  },
  {
   "cell_type": "code",
   "execution_count": 222,
   "metadata": {},
   "outputs": [],
   "source": [
    "# Cleaning up column names\n",
    "\n",
    "male_oscars_columns = ['Year','Age','Name','Movie','Unknown']\n",
    "male_oscars_df.columns = male_oscars_columns"
   ]
  },
  {
   "cell_type": "code",
   "execution_count": 223,
   "metadata": {},
   "outputs": [],
   "source": [
    "# Clean up column strings\n",
    "\n",
    "male_oscars_df['Name'] = male_oscars_df.Name.str.strip(' \"')\n",
    "male_oscars_df['Movie'] = male_oscars_df.Movie.str.strip(' \"')\n",
    "male_oscars_df['Unknown'] = male_oscars_df.Unknown.str.strip(' \"')"
   ]
  },
  {
   "cell_type": "code",
   "execution_count": 224,
   "metadata": {},
   "outputs": [],
   "source": [
    "#Changing index to start with zero\n",
    "\n",
    "male_oscars_df.index = range(0,89)"
   ]
  },
  {
   "cell_type": "code",
   "execution_count": 225,
   "metadata": {},
   "outputs": [],
   "source": [
    "male_oscars_df.rename(columns={'Movie':'Movie1'}, inplace=True)"
   ]
  },
  {
   "cell_type": "code",
   "execution_count": 226,
   "metadata": {},
   "outputs": [],
   "source": [
    "male_oscars_df['Movie'] = male_oscars_df.Movie1 + '; ' + male_oscars_df.Unknown.fillna('')\n",
    "male_oscars_df['Movie'] = male_oscars_df.Movie.str.rstrip(' ;\"')"
   ]
  },
  {
   "cell_type": "code",
   "execution_count": 227,
   "metadata": {},
   "outputs": [],
   "source": [
    "del male_oscars_df['Movie1']\n",
    "del male_oscars_df['Unknown']"
   ]
  },
  {
   "cell_type": "code",
   "execution_count": 228,
   "metadata": {},
   "outputs": [],
   "source": [
    "def male_oscar_winner(year_ask):\n",
    "    '''\n",
    "    Finds winner of Oscar for Best Actress between\n",
    "    years of 1928 and 2016.\n",
    "    ---\n",
    "    Input: numeric year between 1928 and 2016\n",
    "    Output: A string stating actress and movie that won Oscar of input year.\n",
    "    '''\n",
    "    for index, year in enumerate(male_oscars_df.Year):\n",
    "        if year_ask == year:\n",
    "            return f'''In {male_oscars_df.Year[index]} {male_oscars_df.Name[index]}\\\n",
    " won the Best Actor Oscar for his role in {male_oscars_df.Movie[index]}.'''"
   ]
  },
  {
   "cell_type": "code",
   "execution_count": 229,
   "metadata": {},
   "outputs": [
    {
     "data": {
      "text/plain": [
       "'In 1928 Emil Jannings won the Best Actor Oscar for his role in The Last Command; The Way of All Flesh.'"
      ]
     },
     "execution_count": 229,
     "metadata": {},
     "output_type": "execute_result"
    }
   ],
   "source": [
    "male_oscar_winner(1928)"
   ]
  },
  {
   "cell_type": "code",
   "execution_count": 230,
   "metadata": {},
   "outputs": [],
   "source": [
    "female_oscars_df['Best_Actor'] = male_oscars_df.Name"
   ]
  },
  {
   "cell_type": "code",
   "execution_count": 248,
   "metadata": {},
   "outputs": [
    {
     "data": {
      "text/html": [
       "<div>\n",
       "<style scoped>\n",
       "    .dataframe tbody tr th:only-of-type {\n",
       "        vertical-align: middle;\n",
       "    }\n",
       "\n",
       "    .dataframe tbody tr th {\n",
       "        vertical-align: top;\n",
       "    }\n",
       "\n",
       "    .dataframe thead th {\n",
       "        text-align: right;\n",
       "    }\n",
       "</style>\n",
       "<table border=\"1\" class=\"dataframe\">\n",
       "  <thead>\n",
       "    <tr style=\"text-align: right;\">\n",
       "      <th></th>\n",
       "      <th>Year</th>\n",
       "      <th>Age</th>\n",
       "      <th>Name</th>\n",
       "      <th>Movie</th>\n",
       "      <th>Best_Actor</th>\n",
       "    </tr>\n",
       "  </thead>\n",
       "  <tbody>\n",
       "    <tr>\n",
       "      <th>0</th>\n",
       "      <td>1928</td>\n",
       "      <td>22</td>\n",
       "      <td>Janet Gaynor</td>\n",
       "      <td>Seventh Heaven; Street Angel; Sunrise: A Song ...</td>\n",
       "      <td>Emil Jannings</td>\n",
       "    </tr>\n",
       "    <tr>\n",
       "      <th>1</th>\n",
       "      <td>1929</td>\n",
       "      <td>37</td>\n",
       "      <td>Mary Pickford</td>\n",
       "      <td>Coquette</td>\n",
       "      <td>Warner Baxter</td>\n",
       "    </tr>\n",
       "    <tr>\n",
       "      <th>2</th>\n",
       "      <td>1930</td>\n",
       "      <td>28</td>\n",
       "      <td>Norma Shearer</td>\n",
       "      <td>The Divorcee</td>\n",
       "      <td>George Arliss</td>\n",
       "    </tr>\n",
       "    <tr>\n",
       "      <th>3</th>\n",
       "      <td>1931</td>\n",
       "      <td>63</td>\n",
       "      <td>Marie Dressler</td>\n",
       "      <td>Min and Bill</td>\n",
       "      <td>Lionel Barrymore</td>\n",
       "    </tr>\n",
       "    <tr>\n",
       "      <th>4</th>\n",
       "      <td>1932</td>\n",
       "      <td>32</td>\n",
       "      <td>Helen Hayes</td>\n",
       "      <td>The Sin of Madelon Claudet</td>\n",
       "      <td>Wallace Beery</td>\n",
       "    </tr>\n",
       "  </tbody>\n",
       "</table>\n",
       "</div>"
      ],
      "text/plain": [
       "   Year  Age            Name  \\\n",
       "0  1928   22    Janet Gaynor   \n",
       "1  1929   37   Mary Pickford   \n",
       "2  1930   28   Norma Shearer   \n",
       "3  1931   63  Marie Dressler   \n",
       "4  1932   32     Helen Hayes   \n",
       "\n",
       "                                               Movie        Best_Actor  \n",
       "0  Seventh Heaven; Street Angel; Sunrise: A Song ...     Emil Jannings  \n",
       "1                                           Coquette     Warner Baxter  \n",
       "2                                       The Divorcee     George Arliss  \n",
       "3                                       Min and Bill  Lionel Barrymore  \n",
       "4                         The Sin of Madelon Claudet     Wallace Beery  "
      ]
     },
     "execution_count": 248,
     "metadata": {},
     "output_type": "execute_result"
    }
   ],
   "source": [
    "female_oscars_df.head()"
   ]
  },
  {
   "cell_type": "code",
   "execution_count": 249,
   "metadata": {},
   "outputs": [],
   "source": [
    "list_test = female_oscars_df.Name.str.split()"
   ]
  },
  {
   "cell_type": "code",
   "execution_count": null,
   "metadata": {},
   "outputs": [],
   "source": []
  }
 ],
 "metadata": {
  "kernelspec": {
   "display_name": "Python 3",
   "language": "python",
   "name": "python3"
  },
  "language_info": {
   "codemirror_mode": {
    "name": "ipython",
    "version": 3
   },
   "file_extension": ".py",
   "mimetype": "text/x-python",
   "name": "python",
   "nbconvert_exporter": "python",
   "pygments_lexer": "ipython3",
   "version": "3.7.4"
  }
 },
 "nbformat": 4,
 "nbformat_minor": 2
}
