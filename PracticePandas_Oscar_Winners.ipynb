{
 "cells": [
  {
   "cell_type": "code",
   "execution_count": 1,
   "metadata": {},
   "outputs": [],
   "source": [
    "import numpy as np\n",
    "import pandas as pd\n",
    "import scipy.stats as stats"
   ]
  },
  {
   "cell_type": "code",
   "execution_count": 83,
   "metadata": {},
   "outputs": [],
   "source": [
    "female_oscars_df = pd.read_csv(\"https://people.sc.fsu.edu/~jburkardt/data/csv/oscar_age_female.csv\")\n",
    "male_oscars_df = pd.read_csv(\"https://people.sc.fsu.edu/~jburkardt/data/csv/oscar_age_male.csv\")"
   ]
  },
  {
   "cell_type": "code",
   "execution_count": 84,
   "metadata": {},
   "outputs": [],
   "source": [
    "# change column names to be correct and not have quotation marks\n",
    "# note 'unknown' added where data meaning is unknown and needs more\n",
    "# exploration\n",
    "\n",
    "female_oscars_columns = ['Year','Age','Name','Movie','Unknown']\n",
    "female_oscars_df.columns = female_oscars_columns"
   ]
  },
  {
   "cell_type": "code",
   "execution_count": 87,
   "metadata": {
    "scrolled": true
   },
   "outputs": [
    {
     "data": {
      "text/plain": [
       "array([' Street Angel and Sunrise: A Song of Two Humans\"', nan,\n",
       "       ' Little Sheba\"'], dtype=object)"
      ]
     },
     "execution_count": 87,
     "metadata": {},
     "output_type": "execute_result"
    }
   ],
   "source": [
    "# Finding out what is in Unknown column for examination\n",
    "\n",
    "female_oscars_df.Unknown.unique()"
   ]
  },
  {
   "cell_type": "code",
   "execution_count": 104,
   "metadata": {},
   "outputs": [],
   "source": [
    "# remove quotation marks around names and movies\n",
    "\n",
    "female_oscars_df['Name'] = female_oscars_df.Name.str.strip(' \"')\n",
    "female_oscars_df['Movie'] = female_oscars_df.Movie.str.strip(' \"')\n",
    "female_oscars_df['Unknown'] = female_oscars_df.Unknown.str.strip(' \"')"
   ]
  },
  {
   "cell_type": "code",
   "execution_count": 105,
   "metadata": {},
   "outputs": [
    {
     "data": {
      "text/html": [
       "<div>\n",
       "<style scoped>\n",
       "    .dataframe tbody tr th:only-of-type {\n",
       "        vertical-align: middle;\n",
       "    }\n",
       "\n",
       "    .dataframe tbody tr th {\n",
       "        vertical-align: top;\n",
       "    }\n",
       "\n",
       "    .dataframe thead th {\n",
       "        text-align: right;\n",
       "    }\n",
       "</style>\n",
       "<table border=\"1\" class=\"dataframe\">\n",
       "  <thead>\n",
       "    <tr style=\"text-align: right;\">\n",
       "      <th></th>\n",
       "      <th>Year</th>\n",
       "      <th>Age</th>\n",
       "      <th>Name</th>\n",
       "      <th>Movie</th>\n",
       "      <th>Unknown</th>\n",
       "    </tr>\n",
       "  </thead>\n",
       "  <tbody>\n",
       "    <tr>\n",
       "      <th>1</th>\n",
       "      <td>1928</td>\n",
       "      <td>22</td>\n",
       "      <td>Janet Gaynor</td>\n",
       "      <td>Seventh Heaven</td>\n",
       "      <td>Street Angel and Sunrise: A Song of Two Humans</td>\n",
       "    </tr>\n",
       "    <tr>\n",
       "      <th>2</th>\n",
       "      <td>1929</td>\n",
       "      <td>37</td>\n",
       "      <td>Mary Pickford</td>\n",
       "      <td>Coquette</td>\n",
       "      <td>NaN</td>\n",
       "    </tr>\n",
       "    <tr>\n",
       "      <th>3</th>\n",
       "      <td>1930</td>\n",
       "      <td>28</td>\n",
       "      <td>Norma Shearer</td>\n",
       "      <td>The Divorcee\"\\t</td>\n",
       "      <td>NaN</td>\n",
       "    </tr>\n",
       "    <tr>\n",
       "      <th>4</th>\n",
       "      <td>1931</td>\n",
       "      <td>63</td>\n",
       "      <td>Marie Dressler</td>\n",
       "      <td>Min and Bill</td>\n",
       "      <td>NaN</td>\n",
       "    </tr>\n",
       "    <tr>\n",
       "      <th>5</th>\n",
       "      <td>1932</td>\n",
       "      <td>32</td>\n",
       "      <td>Helen Hayes</td>\n",
       "      <td>The Sin of Madelon Claudet\"\\t</td>\n",
       "      <td>NaN</td>\n",
       "    </tr>\n",
       "  </tbody>\n",
       "</table>\n",
       "</div>"
      ],
      "text/plain": [
       "   Year  Age            Name                          Movie  \\\n",
       "1  1928   22    Janet Gaynor                 Seventh Heaven   \n",
       "2  1929   37   Mary Pickford                       Coquette   \n",
       "3  1930   28   Norma Shearer                The Divorcee\"\\t   \n",
       "4  1931   63  Marie Dressler                   Min and Bill   \n",
       "5  1932   32     Helen Hayes  The Sin of Madelon Claudet\"\\t   \n",
       "\n",
       "                                          Unknown  \n",
       "1  Street Angel and Sunrise: A Song of Two Humans  \n",
       "2                                             NaN  \n",
       "3                                             NaN  \n",
       "4                                             NaN  \n",
       "5                                             NaN  "
      ]
     },
     "execution_count": 105,
     "metadata": {},
     "output_type": "execute_result"
    }
   ],
   "source": [
    "female_oscars_df.head()"
   ]
  },
  {
   "cell_type": "code",
   "execution_count": 109,
   "metadata": {},
   "outputs": [
    {
     "data": {
      "text/plain": [
       "1     Seventh HeavenStreet Angel and Sunrise: A Song...\n",
       "2                                                   NaN\n",
       "3                                                   NaN\n",
       "4                                                   NaN\n",
       "5                                                   NaN\n",
       "                            ...                        \n",
       "85                                                  NaN\n",
       "86                                                  NaN\n",
       "87                                                  NaN\n",
       "88                                                  NaN\n",
       "89                                                  NaN\n",
       "Length: 89, dtype: object"
      ]
     },
     "execution_count": 109,
     "metadata": {},
     "output_type": "execute_result"
    }
   ],
   "source": [
    "# After research, found Unknown column includes additional \n",
    "# movies that person won the best actress winner for, so going to \n",
    "# combine data where needed\n",
    "\n",
    "pd.Series(female_oscars_df.Movie + female_oscars_df.Unknown.dropna())"
   ]
  },
  {
   "cell_type": "code",
   "execution_count": 123,
   "metadata": {
    "scrolled": false
   },
   "outputs": [],
   "source": [
    "female_oscars_df.index = range(0,len(female_oscars_df.index))"
   ]
  },
  {
   "cell_type": "code",
   "execution_count": null,
   "metadata": {},
   "outputs": [],
   "source": [
    "df[\"period\"] = df[\"Year\"] + df[\"quarter\"]"
   ]
  },
  {
   "cell_type": "code",
   "execution_count": 145,
   "metadata": {},
   "outputs": [
    {
     "name": "stdout",
     "output_type": "stream",
     "text": [
      "Street Angel and Sunrise: A Song of Two Humans\n",
      "Little Sheba\n"
     ]
    }
   ],
   "source": [
    "for x in female_oscars_df.Unknown:\n",
    "    if type(x) == str:\n",
    "        print(x)"
   ]
  },
  {
   "cell_type": "code",
   "execution_count": 152,
   "metadata": {},
   "outputs": [
    {
     "data": {
      "text/plain": [
       "0     Street Angel and Sunrise: A Song of Two Humans\n",
       "24                                      Little Sheba\n",
       "Name: Unknown, dtype: object"
      ]
     },
     "execution_count": 152,
     "metadata": {},
     "output_type": "execute_result"
    }
   ],
   "source": [
    "female_oscars_df.Unknown.dropna()"
   ]
  },
  {
   "cell_type": "code",
   "execution_count": 169,
   "metadata": {},
   "outputs": [],
   "source": [
    "combined_column = female_oscars_df['Movie'].fillna('') + \"; \" + female_oscars_df['Unknown'].fillna('')\n",
    "female_oscars_df['Movie_v2'] = combined_column.str.strip('\"\\t ;')"
   ]
  },
  {
   "cell_type": "code",
   "execution_count": 171,
   "metadata": {},
   "outputs": [],
   "source": [
    "del female_oscars_df['Movie']"
   ]
  },
  {
   "cell_type": "code",
   "execution_count": 173,
   "metadata": {},
   "outputs": [],
   "source": [
    "del female_oscars_df['Unknown']"
   ]
  },
  {
   "cell_type": "code",
   "execution_count": 178,
   "metadata": {},
   "outputs": [],
   "source": [
    "female_oscars_df.rename(columns={'Movie_v2': 'Movie'}, inplace = True)"
   ]
  },
  {
   "cell_type": "code",
   "execution_count": 183,
   "metadata": {},
   "outputs": [
    {
     "data": {
      "text/plain": [
       "'Seventh Heaven; Street Angel; Sunrise: A Song of Two Humans'"
      ]
     },
     "execution_count": 183,
     "metadata": {},
     "output_type": "execute_result"
    }
   ],
   "source": [
    "female_oscars_df.Movie[0] = 'Seventh Heaven; Street Angel; Sunrise: A Song of Two Humans'"
   ]
  },
  {
   "cell_type": "code",
   "execution_count": 184,
   "metadata": {},
   "outputs": [
    {
     "data": {
      "text/html": [
       "<div>\n",
       "<style scoped>\n",
       "    .dataframe tbody tr th:only-of-type {\n",
       "        vertical-align: middle;\n",
       "    }\n",
       "\n",
       "    .dataframe tbody tr th {\n",
       "        vertical-align: top;\n",
       "    }\n",
       "\n",
       "    .dataframe thead th {\n",
       "        text-align: right;\n",
       "    }\n",
       "</style>\n",
       "<table border=\"1\" class=\"dataframe\">\n",
       "  <thead>\n",
       "    <tr style=\"text-align: right;\">\n",
       "      <th></th>\n",
       "      <th>Year</th>\n",
       "      <th>Age</th>\n",
       "      <th>Name</th>\n",
       "      <th>Movie</th>\n",
       "    </tr>\n",
       "  </thead>\n",
       "  <tbody>\n",
       "    <tr>\n",
       "      <th>0</th>\n",
       "      <td>1928</td>\n",
       "      <td>22</td>\n",
       "      <td>Janet Gaynor</td>\n",
       "      <td>Seventh Heaven; Street Angel; Sunrise: A Song ...</td>\n",
       "    </tr>\n",
       "    <tr>\n",
       "      <th>1</th>\n",
       "      <td>1929</td>\n",
       "      <td>37</td>\n",
       "      <td>Mary Pickford</td>\n",
       "      <td>Coquette</td>\n",
       "    </tr>\n",
       "    <tr>\n",
       "      <th>2</th>\n",
       "      <td>1930</td>\n",
       "      <td>28</td>\n",
       "      <td>Norma Shearer</td>\n",
       "      <td>The Divorcee</td>\n",
       "    </tr>\n",
       "    <tr>\n",
       "      <th>3</th>\n",
       "      <td>1931</td>\n",
       "      <td>63</td>\n",
       "      <td>Marie Dressler</td>\n",
       "      <td>Min and Bill</td>\n",
       "    </tr>\n",
       "    <tr>\n",
       "      <th>4</th>\n",
       "      <td>1932</td>\n",
       "      <td>32</td>\n",
       "      <td>Helen Hayes</td>\n",
       "      <td>The Sin of Madelon Claudet</td>\n",
       "    </tr>\n",
       "  </tbody>\n",
       "</table>\n",
       "</div>"
      ],
      "text/plain": [
       "   Year  Age            Name  \\\n",
       "0  1928   22    Janet Gaynor   \n",
       "1  1929   37   Mary Pickford   \n",
       "2  1930   28   Norma Shearer   \n",
       "3  1931   63  Marie Dressler   \n",
       "4  1932   32     Helen Hayes   \n",
       "\n",
       "                                               Movie  \n",
       "0  Seventh Heaven; Street Angel; Sunrise: A Song ...  \n",
       "1                                           Coquette  \n",
       "2                                       The Divorcee  \n",
       "3                                       Min and Bill  \n",
       "4                         The Sin of Madelon Claudet  "
      ]
     },
     "execution_count": 184,
     "metadata": {},
     "output_type": "execute_result"
    }
   ],
   "source": [
    "female_oscars_df.head()"
   ]
  },
  {
   "cell_type": "code",
   "execution_count": 225,
   "metadata": {},
   "outputs": [],
   "source": [
    "def find_oscar_winner(year_ask):\n",
    "    for index, year in enumerate(female_oscars_df.Year):\n",
    "        if year_ask == year:\n",
    "            return f'''In {female_oscars_df.Year[index]} {female_oscars_df.Name[index]}\\\n",
    " won the Best Actress Oscar for her role in {female_oscars_df.Movie[index]}.'''\n"
   ]
  },
  {
   "cell_type": "code",
   "execution_count": 229,
   "metadata": {},
   "outputs": [],
   "source": [
    "find_oscar_winner(2019)"
   ]
  },
  {
   "cell_type": "code",
   "execution_count": null,
   "metadata": {},
   "outputs": [],
   "source": []
  }
 ],
 "metadata": {
  "kernelspec": {
   "display_name": "Python 3",
   "language": "python",
   "name": "python3"
  },
  "language_info": {
   "codemirror_mode": {
    "name": "ipython",
    "version": 3
   },
   "file_extension": ".py",
   "mimetype": "text/x-python",
   "name": "python",
   "nbconvert_exporter": "python",
   "pygments_lexer": "ipython3",
   "version": "3.7.4"
  }
 },
 "nbformat": 4,
 "nbformat_minor": 2
}
