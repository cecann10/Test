{
 "cells": [
  {
   "cell_type": "code",
   "execution_count": 19,
   "metadata": {},
   "outputs": [],
   "source": [
    "import numpy as np\n",
    "import pandas as pd\n",
    "import scipy.stats as stats"
   ]
  },
  {
   "cell_type": "code",
   "execution_count": 20,
   "metadata": {},
   "outputs": [],
   "source": [
    "female_oscars_df = pd.read_csv(\"https://people.sc.fsu.edu/~jburkardt/data/csv/oscar_age_female.csv\")\n",
    "male_oscars_df = pd.read_csv(\"https://people.sc.fsu.edu/~jburkardt/data/csv/oscar_age_male.csv\")"
   ]
  },
  {
   "cell_type": "code",
   "execution_count": 21,
   "metadata": {},
   "outputs": [],
   "source": [
    "# change column names to be correct and not have quotation marks\n",
    "# note 'unknown' added where data meaning is unknown and needs more\n",
    "# exploration\n",
    "\n",
    "female_oscars_columns = ['Year','Age','Name','Movie','Unknown']\n",
    "female_oscars_df.columns = female_oscars_columns"
   ]
  },
  {
   "cell_type": "code",
   "execution_count": 22,
   "metadata": {
    "scrolled": true
   },
   "outputs": [
    {
     "data": {
      "text/plain": [
       "array([' Street Angel and Sunrise: A Song of Two Humans\"', nan,\n",
       "       ' Little Sheba\"'], dtype=object)"
      ]
     },
     "execution_count": 22,
     "metadata": {},
     "output_type": "execute_result"
    }
   ],
   "source": [
    "# Finding out what is in Unknown column for examination\n",
    "\n",
    "female_oscars_df.Unknown.unique()"
   ]
  },
  {
   "cell_type": "code",
   "execution_count": 23,
   "metadata": {},
   "outputs": [],
   "source": [
    "# remove quotation marks around names and movies\n",
    "\n",
    "female_oscars_df['Name'] = female_oscars_df.Name.str.strip(' \"')\n",
    "female_oscars_df['Movie'] = female_oscars_df.Movie.str.strip(' \"')\n",
    "female_oscars_df['Unknown'] = female_oscars_df.Unknown.str.strip(' \"')"
   ]
  },
  {
   "cell_type": "code",
   "execution_count": 24,
   "metadata": {},
   "outputs": [],
   "source": [
    "# After research, found Unknown column includes additional \n",
    "# movies that person won the best actress winner for, so going to \n",
    "# combine data where needed\n",
    "\n",
    "combined_column = female_oscars_df['Movie'].fillna('') + \"; \" + female_oscars_df['Unknown'].fillna('')\n",
    "female_oscars_df['Movie_v2'] = combined_column.str.strip('\"\\t ;')"
   ]
  },
  {
   "cell_type": "code",
   "execution_count": 25,
   "metadata": {},
   "outputs": [],
   "source": [
    "del female_oscars_df['Movie']"
   ]
  },
  {
   "cell_type": "code",
   "execution_count": 26,
   "metadata": {},
   "outputs": [],
   "source": [
    "del female_oscars_df['Unknown']"
   ]
  },
  {
   "cell_type": "code",
   "execution_count": 27,
   "metadata": {},
   "outputs": [],
   "source": [
    "female_oscars_df.rename(columns={'Movie_v2': 'Movie'}, inplace = True)"
   ]
  },
  {
   "cell_type": "code",
   "execution_count": 28,
   "metadata": {},
   "outputs": [],
   "source": [
    "female_oscars_df.iloc[0,3] = 'Seventh Heaven; Street Angel; Sunrise: A Song of Two Humans'"
   ]
  },
  {
   "cell_type": "code",
   "execution_count": 42,
   "metadata": {},
   "outputs": [
    {
     "data": {
      "text/html": [
       "<div>\n",
       "<style scoped>\n",
       "    .dataframe tbody tr th:only-of-type {\n",
       "        vertical-align: middle;\n",
       "    }\n",
       "\n",
       "    .dataframe tbody tr th {\n",
       "        vertical-align: top;\n",
       "    }\n",
       "\n",
       "    .dataframe thead th {\n",
       "        text-align: right;\n",
       "    }\n",
       "</style>\n",
       "<table border=\"1\" class=\"dataframe\">\n",
       "  <thead>\n",
       "    <tr style=\"text-align: right;\">\n",
       "      <th></th>\n",
       "      <th>Year</th>\n",
       "      <th>Age</th>\n",
       "      <th>Name</th>\n",
       "      <th>Movie</th>\n",
       "    </tr>\n",
       "  </thead>\n",
       "  <tbody>\n",
       "    <tr>\n",
       "      <th>1</th>\n",
       "      <td>1928</td>\n",
       "      <td>22</td>\n",
       "      <td>Janet Gaynor</td>\n",
       "      <td>Seventh Heaven; Street Angel; Sunrise: A Song ...</td>\n",
       "    </tr>\n",
       "    <tr>\n",
       "      <th>2</th>\n",
       "      <td>1929</td>\n",
       "      <td>37</td>\n",
       "      <td>Mary Pickford</td>\n",
       "      <td>Coquette</td>\n",
       "    </tr>\n",
       "    <tr>\n",
       "      <th>3</th>\n",
       "      <td>1930</td>\n",
       "      <td>28</td>\n",
       "      <td>Norma Shearer</td>\n",
       "      <td>The Divorcee</td>\n",
       "    </tr>\n",
       "    <tr>\n",
       "      <th>4</th>\n",
       "      <td>1931</td>\n",
       "      <td>63</td>\n",
       "      <td>Marie Dressler</td>\n",
       "      <td>Min and Bill</td>\n",
       "    </tr>\n",
       "    <tr>\n",
       "      <th>5</th>\n",
       "      <td>1932</td>\n",
       "      <td>32</td>\n",
       "      <td>Helen Hayes</td>\n",
       "      <td>The Sin of Madelon Claudet</td>\n",
       "    </tr>\n",
       "  </tbody>\n",
       "</table>\n",
       "</div>"
      ],
      "text/plain": [
       "   Year  Age            Name  \\\n",
       "1  1928   22    Janet Gaynor   \n",
       "2  1929   37   Mary Pickford   \n",
       "3  1930   28   Norma Shearer   \n",
       "4  1931   63  Marie Dressler   \n",
       "5  1932   32     Helen Hayes   \n",
       "\n",
       "                                               Movie  \n",
       "1  Seventh Heaven; Street Angel; Sunrise: A Song ...  \n",
       "2                                           Coquette  \n",
       "3                                       The Divorcee  \n",
       "4                                       Min and Bill  \n",
       "5                         The Sin of Madelon Claudet  "
      ]
     },
     "execution_count": 42,
     "metadata": {},
     "output_type": "execute_result"
    }
   ],
   "source": [
    "female_oscars_df.head()"
   ]
  },
  {
   "cell_type": "code",
   "execution_count": 43,
   "metadata": {},
   "outputs": [],
   "source": [
    "def female_oscar_winner(year_ask):\n",
    "    '''\n",
    "    Finds winner of Oscar for Best Actress between\n",
    "    years of 1928 and 2016.\n",
    "    ---\n",
    "    Input: numeric year between 1928 and 2016\n",
    "    Output: A string stating actress and movie that won Oscar of input year.\n",
    "    '''\n",
    "    for index, year in enumerate(female_oscars_df.Year):\n",
    "        if year_ask == year:\n",
    "            return f'''In {female_oscars_df.Year[index]} {female_oscars_df.Name[index]}\\\n",
    " won the Best Actress Oscar for her role in {female_oscars_df.Movie[index]}.'''\n"
   ]
  },
  {
   "cell_type": "code",
   "execution_count": null,
   "metadata": {},
   "outputs": [],
   "source": [
    "female_oscar_winner()"
   ]
  },
  {
   "cell_type": "code",
   "execution_count": 44,
   "metadata": {
    "scrolled": true
   },
   "outputs": [
    {
     "data": {
      "text/plain": [
       "'In 1988 Cher won the Best Actress Oscar for her role in Moonstruck.'"
      ]
     },
     "execution_count": 44,
     "metadata": {},
     "output_type": "execute_result"
    }
   ],
   "source": [
    "female_oscar_winner(1989)"
   ]
  },
  {
   "cell_type": "code",
   "execution_count": 36,
   "metadata": {},
   "outputs": [
    {
     "data": {
      "text/html": [
       "<div>\n",
       "<style scoped>\n",
       "    .dataframe tbody tr th:only-of-type {\n",
       "        vertical-align: middle;\n",
       "    }\n",
       "\n",
       "    .dataframe tbody tr th {\n",
       "        vertical-align: top;\n",
       "    }\n",
       "\n",
       "    .dataframe thead th {\n",
       "        text-align: right;\n",
       "    }\n",
       "</style>\n",
       "<table border=\"1\" class=\"dataframe\">\n",
       "  <thead>\n",
       "    <tr style=\"text-align: right;\">\n",
       "      <th></th>\n",
       "      <th>Index</th>\n",
       "      <th>\"Year\"</th>\n",
       "      <th>\"Age\"</th>\n",
       "      <th>\"Name\"</th>\n",
       "      <th>\"Movie\"</th>\n",
       "    </tr>\n",
       "  </thead>\n",
       "  <tbody>\n",
       "    <tr>\n",
       "      <th>1</th>\n",
       "      <td>1928</td>\n",
       "      <td>44</td>\n",
       "      <td>\"Emil Jannings\"</td>\n",
       "      <td>\"The Last Command</td>\n",
       "      <td>The Way of All Flesh\"</td>\n",
       "    </tr>\n",
       "    <tr>\n",
       "      <th>2</th>\n",
       "      <td>1929</td>\n",
       "      <td>41</td>\n",
       "      <td>\"Warner Baxter\"</td>\n",
       "      <td>\"In Old Arizona\"</td>\n",
       "      <td>NaN</td>\n",
       "    </tr>\n",
       "    <tr>\n",
       "      <th>3</th>\n",
       "      <td>1930</td>\n",
       "      <td>62</td>\n",
       "      <td>\"George Arliss\"</td>\n",
       "      <td>\"Disraeli\"</td>\n",
       "      <td>NaN</td>\n",
       "    </tr>\n",
       "    <tr>\n",
       "      <th>4</th>\n",
       "      <td>1931</td>\n",
       "      <td>53</td>\n",
       "      <td>\"Lionel Barrymore\"</td>\n",
       "      <td>\"A Free Soul\"</td>\n",
       "      <td>NaN</td>\n",
       "    </tr>\n",
       "    <tr>\n",
       "      <th>5</th>\n",
       "      <td>1932</td>\n",
       "      <td>47</td>\n",
       "      <td>\"Wallace Beery\"</td>\n",
       "      <td>\"The Champ\"</td>\n",
       "      <td>NaN</td>\n",
       "    </tr>\n",
       "  </tbody>\n",
       "</table>\n",
       "</div>"
      ],
      "text/plain": [
       "   Index   \"Year\"                \"Age\"              \"Name\"  \\\n",
       "1   1928       44      \"Emil Jannings\"   \"The Last Command   \n",
       "2   1929       41      \"Warner Baxter\"    \"In Old Arizona\"   \n",
       "3   1930       62      \"George Arliss\"          \"Disraeli\"   \n",
       "4   1931       53   \"Lionel Barrymore\"       \"A Free Soul\"   \n",
       "5   1932       47      \"Wallace Beery\"         \"The Champ\"   \n",
       "\n",
       "                  \"Movie\"  \n",
       "1   The Way of All Flesh\"  \n",
       "2                     NaN  \n",
       "3                     NaN  \n",
       "4                     NaN  \n",
       "5                     NaN  "
      ]
     },
     "execution_count": 36,
     "metadata": {},
     "output_type": "execute_result"
    }
   ],
   "source": [
    "male_oscars_df.head()"
   ]
  },
  {
   "cell_type": "code",
   "execution_count": 39,
   "metadata": {},
   "outputs": [],
   "source": [
    "# Cleaning up oscars\n",
    "\n",
    "male_oscars_columns = ['Year','Age','Name','Movie','Unknown']\n",
    "male_oscars_df.columns = male_oscars_columns"
   ]
  },
  {
   "cell_type": "code",
   "execution_count": 62,
   "metadata": {},
   "outputs": [],
   "source": [
    "import Test_Module"
   ]
  },
  {
   "cell_type": "code",
   "execution_count": 64,
   "metadata": {},
   "outputs": [
    {
     "ename": "ModuleNotFoundError",
     "evalue": "No module named 'add_num'",
     "output_type": "error",
     "traceback": [
      "\u001b[0;31m---------------------------------------------------------------------------\u001b[0m",
      "\u001b[0;31mModuleNotFoundError\u001b[0m                       Traceback (most recent call last)",
      "\u001b[0;32m<ipython-input-64-4b94b9775fbb>\u001b[0m in \u001b[0;36m<module>\u001b[0;34m\u001b[0m\n\u001b[0;32m----> 1\u001b[0;31m \u001b[0;32mimport\u001b[0m \u001b[0madd_num\u001b[0m\u001b[0;34m\u001b[0m\u001b[0;34m\u001b[0m\u001b[0m\n\u001b[0m",
      "\u001b[0;31mModuleNotFoundError\u001b[0m: No module named 'add_num'"
     ]
    }
   ],
   "source": [
    "import add_num"
   ]
  },
  {
   "cell_type": "code",
   "execution_count": 60,
   "metadata": {},
   "outputs": [
    {
     "name": "stdout",
     "output_type": "stream",
     "text": [
      "Variable                Type         Data/Info\n",
      "----------------------------------------------\n",
      "Test_Module             module       <module 'Test_Module' fro<...>rst_repo/Test_Module.py'>\n",
      "combined_column         Series       1     Seventh Heaven; Str<...>Length: 89, dtype: object\n",
      "female_oscar_winner     function     <function female_oscar_winner at 0x7ff7693f44d0>\n",
      "female_oscars_columns   list         n=5\n",
      "female_oscars_df        DataFrame        Year  Age            <...>\\n\\n[89 rows x 4 columns]\n",
      "find_oscar_winner       function     <function find_oscar_winner at 0x7ff7693f47a0>\n",
      "male_oscars_columns     list         n=5\n",
      "male_oscars_df          DataFrame        Year  Age            <...>\\n\\n[89 rows x 5 columns]\n",
      "np                      module       <module 'numpy' from '/Us<...>kages/numpy/__init__.py'>\n",
      "pd                      module       <module 'pandas' from '/U<...>ages/pandas/__init__.py'>\n",
      "stats                   module       <module 'scipy.stats' fro<...>scipy/stats/__init__.py'>\n"
     ]
    }
   ],
   "source": [
    "%whos"
   ]
  },
  {
   "cell_type": "code",
   "execution_count": 55,
   "metadata": {},
   "outputs": [
    {
     "ename": "NameError",
     "evalue": "name 'add_num' is not defined",
     "output_type": "error",
     "traceback": [
      "\u001b[0;31m---------------------------------------------------------------------------\u001b[0m",
      "\u001b[0;31mNameError\u001b[0m                                 Traceback (most recent call last)",
      "\u001b[0;32m<ipython-input-55-df863a29c395>\u001b[0m in \u001b[0;36m<module>\u001b[0;34m\u001b[0m\n\u001b[0;32m----> 1\u001b[0;31m \u001b[0madd_num\u001b[0m\u001b[0;34m(\u001b[0m\u001b[0;36m4\u001b[0m\u001b[0;34m,\u001b[0m\u001b[0;36m5\u001b[0m\u001b[0;34m)\u001b[0m\u001b[0;34m\u001b[0m\u001b[0;34m\u001b[0m\u001b[0m\n\u001b[0m",
      "\u001b[0;31mNameError\u001b[0m: name 'add_num' is not defined"
     ]
    }
   ],
   "source": [
    "add_num(4,5)"
   ]
  },
  {
   "cell_type": "code",
   "execution_count": null,
   "metadata": {},
   "outputs": [],
   "source": []
  }
 ],
 "metadata": {
  "kernelspec": {
   "display_name": "Python 3",
   "language": "python",
   "name": "python3"
  },
  "language_info": {
   "codemirror_mode": {
    "name": "ipython",
    "version": 3
   },
   "file_extension": ".py",
   "mimetype": "text/x-python",
   "name": "python",
   "nbconvert_exporter": "python",
   "pygments_lexer": "ipython3",
   "version": "3.7.4"
  }
 },
 "nbformat": 4,
 "nbformat_minor": 2
}
