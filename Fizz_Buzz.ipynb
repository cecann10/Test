hundred_list = list(range(1,101))
hundred_list

['FizzBuzz' if x % 5 == 0 and x % 3 == 0 else 'Fizz' if x % 3 == 0 else 'Buzz' if x % 5 == 0 else x for x in hundred_list]

    
