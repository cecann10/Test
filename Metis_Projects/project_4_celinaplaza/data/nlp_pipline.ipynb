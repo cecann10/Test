{
 "cells": [
  {
   "cell_type": "code",
   "execution_count": 1,
   "metadata": {},
   "outputs": [],
   "source": [
    "from sklearn.feature_extraction.text import CountVectorizer\n",
    "from nltk.tokenize import TreebankWordTokenizer\n",
    "from nltk.stem import PorterStemmer"
   ]
  },
  {
   "cell_type": "code",
   "execution_count": 2,
   "metadata": {},
   "outputs": [],
   "source": [
    "class nlp_pipe:\n",
    "    \"\"\"\n",
    "    A class for pipelining the NLP of the text data. The user provides \n",
    "    a series of tools, and this class manages all of the training, \n",
    "    transforming, and modification of the text data.\n",
    "    ---\n",
    "    Inputs:\n",
    "    cleaning_function: how to clean the data\n",
    "    vectorizer: the model to use for vectorization of text data\n",
    "    tokenizer: the model to use for tokenization of text data\n",
    "    stemmer: the model to use for stemming of text data\n",
    "    \"\"\"\n",
    "    \n",
    "    def __init__(self, \n",
    "                 cleaning_function, \n",
    "                 vectorizer=CountVectorizer(), \n",
    "                 tokenizer=TreebankWordTokenizer(), \n",
    "                 stemmer=PorterStemmer()):\n",
    "        self.vectorizer = vectorizer\n",
    "        self.cleaning_function = cleaning_function\n",
    "        self.tokenizer = tokenizer\n",
    "        self.stemmer = stemmer\n",
    "    \n",
    "    def fit(self, text):\n",
    "        clean_text = self.cleaning_function(text, self.tokenizer, self.stemmer)\n",
    "        self.vectorizer.fit(clean_text)\n",
    "    \n",
    "    def transform(self, text):\n",
    "        clean_text = self.cleaning_function(text, self.tokenizer, self.stemmer)\n",
    "        vectorized = self.vectorizer.transform(clean_text)\n",
    "\n",
    "        return pd.DataFrame(vectorized.toarray(),\n",
    "                           columns = self.vectorizer.get_feature_names()\n",
    "                           ).head()"
   ]
  },
  {
   "cell_type": "code",
   "execution_count": 4,
   "metadata": {},
   "outputs": [],
   "source": [
    "def cleaning_function(text, tokenizer, stemmer):\n",
    "    \"\"\"\n",
    "    A function for cleaning the text data. The user provides \n",
    "    the text and tools, and this function cleans the data.\n",
    "    ---\n",
    "    Inputs:\n",
    "    text: data to be cleaned\n",
    "    vectorizer: the model to use for vectorization of text data\n",
    "    tokenizer: the model to use for tokenization of text data\n",
    "    stemmer: the model to use for stemming of text data\n",
    "    \"\"\"\n",
    "    cleaned_text = []\n",
    "    for words in text:\n",
    "        cleaned_words = []\n",
    "        \n",
    "        for word in tokenizer(words):\n",
    "            low_word = stemmer.stem(word.lower())\n",
    "            cleaned_words.append(low_word)\n",
    "            \n",
    "        cleaned_text.append(' '.join(cleaned_words))\n",
    "        \n",
    "    return cleaned_text"
   ]
  },
  {
   "cell_type": "code",
   "execution_count": null,
   "metadata": {},
   "outputs": [],
   "source": []
  }
 ],
 "metadata": {
  "kernelspec": {
   "display_name": "Python 3",
   "language": "python",
   "name": "python3"
  },
  "language_info": {
   "codemirror_mode": {
    "name": "ipython",
    "version": 3
   },
   "file_extension": ".py",
   "mimetype": "text/x-python",
   "name": "python",
   "nbconvert_exporter": "python",
   "pygments_lexer": "ipython3",
   "version": "3.7.4"
  }
 },
 "nbformat": 4,
 "nbformat_minor": 4
}
