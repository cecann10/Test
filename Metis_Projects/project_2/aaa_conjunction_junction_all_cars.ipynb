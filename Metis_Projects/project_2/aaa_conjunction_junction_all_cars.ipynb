{
 "cells": [
  {
   "cell_type": "code",
   "execution_count": 5,
   "metadata": {},
   "outputs": [],
   "source": [
    "import pandas as pd\n",
    "import pickle"
   ]
  },
  {
   "cell_type": "markdown",
   "metadata": {},
   "source": [
    "## Create the Master List for ALL Cars\n",
    "\n",
    "This is where you go to bring all car make dataframes together for creating the master dataframes of all cars"
   ]
  },
  {
   "cell_type": "markdown",
   "metadata": {},
   "source": [
    "**Step 1:** Unpickle all dfs for all car makes (47 total) \n",
    "\n",
    "Individual car make df must be created and its pickle listed here to bring it into the master car list"
   ]
  },
  {
   "cell_type": "code",
   "execution_count": 6,
   "metadata": {},
   "outputs": [],
   "source": [
    "# Acura\n",
    "with open('acura_dfs.pickle','rb') as read_file:\n",
    "    acura_dfs = pickle.load(read_file)"
   ]
  },
  {
   "cell_type": "code",
   "execution_count": 7,
   "metadata": {},
   "outputs": [],
   "source": [
    "# Audi\n",
    "with open('audi_dfs.pickle','rb') as read_file:\n",
    "    audi_dfs = pickle.load(read_file)"
   ]
  },
  {
   "cell_type": "code",
   "execution_count": 13,
   "metadata": {},
   "outputs": [],
   "source": [
    "#BMW\n",
    "with open('bmw_dfs.pickle','rb') as read_file:\n",
    "    bmw_dfs = pickle.load(read_file)"
   ]
  },
  {
   "cell_type": "code",
   "execution_count": null,
   "metadata": {},
   "outputs": [],
   "source": []
  },
  {
   "cell_type": "code",
   "execution_count": null,
   "metadata": {},
   "outputs": [],
   "source": []
  },
  {
   "cell_type": "markdown",
   "metadata": {},
   "source": [
    "**Step 2:** Pull all unpickled dfs together to create final list of all cars! "
   ]
  },
  {
   "cell_type": "code",
   "execution_count": 19,
   "metadata": {},
   "outputs": [],
   "source": [
    "# make a list of all car makes' dfs\n",
    "make_dfs = [acura_dfs,audi_dfs,bmw_dfs]\n",
    "\n",
    "# concatendate all car makes' dfs to create master list\n",
    "all_cars_df = pd.concat(make_dfs, ignore_index=True)"
   ]
  },
  {
   "cell_type": "markdown",
   "metadata": {},
   "source": [
    "**Step 3:** Verify everything looks good"
   ]
  },
  {
   "cell_type": "code",
   "execution_count": 20,
   "metadata": {},
   "outputs": [
    {
     "data": {
      "text/plain": [
       "array(['Acura', 'Audi', 'BMW'], dtype=object)"
      ]
     },
     "execution_count": 20,
     "metadata": {},
     "output_type": "execute_result"
    }
   ],
   "source": [
    "all_cars_df.make.unique()"
   ]
  },
  {
   "cell_type": "code",
   "execution_count": 21,
   "metadata": {},
   "outputs": [
    {
     "data": {
      "text/html": [
       "<div>\n",
       "<style scoped>\n",
       "    .dataframe tbody tr th:only-of-type {\n",
       "        vertical-align: middle;\n",
       "    }\n",
       "\n",
       "    .dataframe tbody tr th {\n",
       "        vertical-align: top;\n",
       "    }\n",
       "\n",
       "    .dataframe thead th {\n",
       "        text-align: right;\n",
       "    }\n",
       "</style>\n",
       "<table border=\"1\" class=\"dataframe\">\n",
       "  <thead>\n",
       "    <tr style=\"text-align: right;\">\n",
       "      <th></th>\n",
       "      <th>year</th>\n",
       "      <th>make</th>\n",
       "      <th>model</th>\n",
       "      <th>capacity_liters</th>\n",
       "      <th>cylinders</th>\n",
       "      <th>transmission</th>\n",
       "      <th>trans_speed</th>\n",
       "      <th>fuel_type</th>\n",
       "      <th>gg_emissions</th>\n",
       "      <th>mpg</th>\n",
       "    </tr>\n",
       "  </thead>\n",
       "  <tbody>\n",
       "    <tr>\n",
       "      <th>541</th>\n",
       "      <td>2014.0</td>\n",
       "      <td>BMW</td>\n",
       "      <td>Z4 sDrive28i</td>\n",
       "      <td>2.0</td>\n",
       "      <td>4.0</td>\n",
       "      <td>Manual</td>\n",
       "      <td>6</td>\n",
       "      <td>Premium Gasoline</td>\n",
       "      <td>341.0</td>\n",
       "      <td>26.0</td>\n",
       "    </tr>\n",
       "    <tr>\n",
       "      <th>207</th>\n",
       "      <td>2018.0</td>\n",
       "      <td>Audi</td>\n",
       "      <td>A5 quattro</td>\n",
       "      <td>2.0</td>\n",
       "      <td>4.0</td>\n",
       "      <td>Automatic</td>\n",
       "      <td>AM-S7</td>\n",
       "      <td>Premium Gasoline</td>\n",
       "      <td>327.0</td>\n",
       "      <td>27.0</td>\n",
       "    </tr>\n",
       "    <tr>\n",
       "      <th>107</th>\n",
       "      <td>2013.0</td>\n",
       "      <td>Acura</td>\n",
       "      <td>TL 2WD</td>\n",
       "      <td>3.5</td>\n",
       "      <td>6.0</td>\n",
       "      <td>Automatic</td>\n",
       "      <td>S6</td>\n",
       "      <td>Premium Gasoline</td>\n",
       "      <td>385.0</td>\n",
       "      <td>23.0</td>\n",
       "    </tr>\n",
       "    <tr>\n",
       "      <th>435</th>\n",
       "      <td>2018.0</td>\n",
       "      <td>BMW</td>\n",
       "      <td>230i xDrive Coupe</td>\n",
       "      <td>2.0</td>\n",
       "      <td>4.0</td>\n",
       "      <td>Automatic</td>\n",
       "      <td>S8</td>\n",
       "      <td>Premium Gasoline</td>\n",
       "      <td>325.0</td>\n",
       "      <td>27.0</td>\n",
       "    </tr>\n",
       "    <tr>\n",
       "      <th>253</th>\n",
       "      <td>2017.0</td>\n",
       "      <td>Audi</td>\n",
       "      <td>Q3</td>\n",
       "      <td>2.0</td>\n",
       "      <td>4.0</td>\n",
       "      <td>Automatic</td>\n",
       "      <td>S6</td>\n",
       "      <td>Premium Gasoline</td>\n",
       "      <td>391.0</td>\n",
       "      <td>23.0</td>\n",
       "    </tr>\n",
       "    <tr>\n",
       "      <th>376</th>\n",
       "      <td>2021.0</td>\n",
       "      <td>Audi</td>\n",
       "      <td>SQ5</td>\n",
       "      <td>3.0</td>\n",
       "      <td>6.0</td>\n",
       "      <td>Automatic</td>\n",
       "      <td>S8</td>\n",
       "      <td>Premium Gasoline</td>\n",
       "      <td>441.0</td>\n",
       "      <td>20.0</td>\n",
       "    </tr>\n",
       "    <tr>\n",
       "      <th>349</th>\n",
       "      <td>2016.0</td>\n",
       "      <td>Audi</td>\n",
       "      <td>S6</td>\n",
       "      <td>4.0</td>\n",
       "      <td>8.0</td>\n",
       "      <td>Automatic</td>\n",
       "      <td>AM-S7</td>\n",
       "      <td>Premium Gasoline</td>\n",
       "      <td>423.0</td>\n",
       "      <td>21.0</td>\n",
       "    </tr>\n",
       "    <tr>\n",
       "      <th>448</th>\n",
       "      <td>2015.0</td>\n",
       "      <td>BMW</td>\n",
       "      <td>428i Coupe</td>\n",
       "      <td>2.0</td>\n",
       "      <td>4.0</td>\n",
       "      <td>Automatic</td>\n",
       "      <td>S8</td>\n",
       "      <td>Premium Gasoline</td>\n",
       "      <td>327.0</td>\n",
       "      <td>27.0</td>\n",
       "    </tr>\n",
       "    <tr>\n",
       "      <th>292</th>\n",
       "      <td>2012.0</td>\n",
       "      <td>Audi</td>\n",
       "      <td>R8 Spyder</td>\n",
       "      <td>4.2</td>\n",
       "      <td>8.0</td>\n",
       "      <td>Automatic</td>\n",
       "      <td>AM6</td>\n",
       "      <td>Premium Gasoline</td>\n",
       "      <td>555.0</td>\n",
       "      <td>16.0</td>\n",
       "    </tr>\n",
       "    <tr>\n",
       "      <th>137</th>\n",
       "      <td>1994.0</td>\n",
       "      <td>Acura</td>\n",
       "      <td>Vigor</td>\n",
       "      <td>2.5</td>\n",
       "      <td>5.0</td>\n",
       "      <td>Manual</td>\n",
       "      <td>5</td>\n",
       "      <td>Premium Gasoline</td>\n",
       "      <td>444.0</td>\n",
       "      <td>20.0</td>\n",
       "    </tr>\n",
       "  </tbody>\n",
       "</table>\n",
       "</div>"
      ],
      "text/plain": [
       "       year   make              model  capacity_liters  cylinders  \\\n",
       "541  2014.0    BMW       Z4 sDrive28i              2.0        4.0   \n",
       "207  2018.0   Audi         A5 quattro              2.0        4.0   \n",
       "107  2013.0  Acura             TL 2WD              3.5        6.0   \n",
       "435  2018.0    BMW  230i xDrive Coupe              2.0        4.0   \n",
       "253  2017.0   Audi                 Q3              2.0        4.0   \n",
       "376  2021.0   Audi                SQ5              3.0        6.0   \n",
       "349  2016.0   Audi                 S6              4.0        8.0   \n",
       "448  2015.0    BMW         428i Coupe              2.0        4.0   \n",
       "292  2012.0   Audi          R8 Spyder              4.2        8.0   \n",
       "137  1994.0  Acura              Vigor              2.5        5.0   \n",
       "\n",
       "    transmission trans_speed          fuel_type  gg_emissions   mpg  \n",
       "541       Manual           6   Premium Gasoline         341.0  26.0  \n",
       "207    Automatic       AM-S7   Premium Gasoline         327.0  27.0  \n",
       "107    Automatic          S6   Premium Gasoline         385.0  23.0  \n",
       "435    Automatic          S8   Premium Gasoline         325.0  27.0  \n",
       "253    Automatic          S6   Premium Gasoline         391.0  23.0  \n",
       "376    Automatic          S8   Premium Gasoline         441.0  20.0  \n",
       "349    Automatic       AM-S7   Premium Gasoline         423.0  21.0  \n",
       "448    Automatic          S8   Premium Gasoline         327.0  27.0  \n",
       "292    Automatic         AM6   Premium Gasoline         555.0  16.0  \n",
       "137       Manual           5   Premium Gasoline         444.0  20.0  "
      ]
     },
     "execution_count": 21,
     "metadata": {},
     "output_type": "execute_result"
    }
   ],
   "source": [
    "all_cars_df.sample(10)"
   ]
  },
  {
   "cell_type": "code",
   "execution_count": null,
   "metadata": {},
   "outputs": [],
   "source": []
  }
 ],
 "metadata": {
  "kernelspec": {
   "display_name": "Python 3",
   "language": "python",
   "name": "python3"
  },
  "language_info": {
   "codemirror_mode": {
    "name": "ipython",
    "version": 3
   },
   "file_extension": ".py",
   "mimetype": "text/x-python",
   "name": "python",
   "nbconvert_exporter": "python",
   "pygments_lexer": "ipython3",
   "version": "3.7.4"
  }
 },
 "nbformat": 4,
 "nbformat_minor": 2
}
