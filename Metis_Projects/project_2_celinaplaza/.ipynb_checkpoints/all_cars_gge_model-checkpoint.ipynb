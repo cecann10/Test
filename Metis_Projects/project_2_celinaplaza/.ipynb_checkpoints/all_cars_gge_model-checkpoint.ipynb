{
 "cells": [
  {
   "cell_type": "code",
   "execution_count": 2,
   "metadata": {},
   "outputs": [],
   "source": [
    "import pandas as pd\n",
    "import pickle"
   ]
  },
  {
   "cell_type": "markdown",
   "metadata": {},
   "source": [
    "## Create the Master List for ALL Cars\n",
    "\n",
    "This is where you go to bring all car make dataframes together for creating the master dataframes of all cars"
   ]
  },
  {
   "cell_type": "markdown",
   "metadata": {},
   "source": [
    "### **Step 1:** Unpickle all dfs for all car makes (25 total) \n",
    "\n",
    "Individual car make df must be created and its pickle listed here to bring it into the master car list"
   ]
  },
  {
   "cell_type": "code",
   "execution_count": 202,
   "metadata": {},
   "outputs": [],
   "source": [
    "# Acura\n",
    "with open('pickles/acura_dfs.pickle','rb') as read_file:\n",
    "    acura_dfs = pickle.load(read_file)"
   ]
  },
  {
   "cell_type": "code",
   "execution_count": 203,
   "metadata": {},
   "outputs": [],
   "source": [
    "# Audi\n",
    "with open('pickles/audi_dfs.pickle','rb') as read_file:\n",
    "    audi_dfs = pickle.load(read_file)"
   ]
  },
  {
   "cell_type": "code",
   "execution_count": 204,
   "metadata": {},
   "outputs": [],
   "source": [
    "#BMW\n",
    "with open('pickles/bmw_dfs.pickle','rb') as read_file:\n",
    "    bmw_dfs = pickle.load(read_file)"
   ]
  },
  {
   "cell_type": "code",
   "execution_count": 205,
   "metadata": {},
   "outputs": [],
   "source": [
    "#Bentley\n",
    "with open('pickles/bentley_dfs.pickle','rb') as read_file:\n",
    "    bentley_dfs = pickle.load(read_file)"
   ]
  },
  {
   "cell_type": "code",
   "execution_count": 206,
   "metadata": {},
   "outputs": [],
   "source": [
    "#Bugatti\n",
    "with open('pickles/bugatti_dfs.pickle','rb') as read_file:\n",
    "    bugatti_dfs = pickle.load(read_file)"
   ]
  },
  {
   "cell_type": "code",
   "execution_count": 207,
   "metadata": {},
   "outputs": [],
   "source": [
    "#Buick\n",
    "with open('pickles/buick_dfs.pickle','rb') as read_file:\n",
    "    buick_dfs = pickle.load(read_file)"
   ]
  },
  {
   "cell_type": "code",
   "execution_count": 208,
   "metadata": {},
   "outputs": [],
   "source": [
    "#Cadillac\n",
    "with open('pickles/cadillac_dfs.pickle','rb') as read_file:\n",
    "    cadillac_dfs = pickle.load(read_file)"
   ]
  },
  {
   "cell_type": "code",
   "execution_count": 209,
   "metadata": {},
   "outputs": [],
   "source": [
    "#Chevrolet\n",
    "with open('pickles/chevrolet_dfs.pickle','rb') as read_file:\n",
    "    chevrolet_dfs = pickle.load(read_file)"
   ]
  },
  {
   "cell_type": "code",
   "execution_count": 210,
   "metadata": {},
   "outputs": [],
   "source": [
    "#Chrysler\n",
    "with open('pickles/chrysler_dfs.pickle','rb') as read_file:\n",
    "    chrysler_dfs = pickle.load(read_file)"
   ]
  },
  {
   "cell_type": "code",
   "execution_count": 211,
   "metadata": {},
   "outputs": [],
   "source": [
    "#Dodge\n",
    "with open('pickles/dodge_dfs.pickle','rb') as read_file:\n",
    "    dodge_dfs = pickle.load(read_file)"
   ]
  },
  {
   "cell_type": "code",
   "execution_count": 212,
   "metadata": {},
   "outputs": [],
   "source": [
    "#Ford\n",
    "with open('pickles/ford_dfs.pickle','rb') as read_file:\n",
    "    ford_dfs = pickle.load(read_file)"
   ]
  },
  {
   "cell_type": "code",
   "execution_count": 213,
   "metadata": {},
   "outputs": [],
   "source": [
    "#GMC\n",
    "with open('pickles/gmc_dfs.pickle','rb') as read_file:\n",
    "    gmc_dfs = pickle.load(read_file)"
   ]
  },
  {
   "cell_type": "code",
   "execution_count": 214,
   "metadata": {},
   "outputs": [],
   "source": [
    "#Honda\n",
    "with open('pickles/honda_dfs.pickle','rb') as read_file:\n",
    "    honda_dfs = pickle.load(read_file)"
   ]
  },
  {
   "cell_type": "code",
   "execution_count": 215,
   "metadata": {},
   "outputs": [],
   "source": [
    "#Jaguar\n",
    "with open('pickles/jaguar_dfs.pickle','rb') as read_file:\n",
    "    jaguar_dfs = pickle.load(read_file)"
   ]
  },
  {
   "cell_type": "code",
   "execution_count": 216,
   "metadata": {},
   "outputs": [],
   "source": [
    "#Jeep\n",
    "with open('pickles/jeep_dfs.pickle','rb') as read_file:\n",
    "    jeep_dfs = pickle.load(read_file)"
   ]
  },
  {
   "cell_type": "code",
   "execution_count": 217,
   "metadata": {},
   "outputs": [],
   "source": [
    "#Maserati\n",
    "with open('pickles/maserati_dfs.pickle','rb') as read_file:\n",
    "    maserati_dfs = pickle.load(read_file)"
   ]
  },
  {
   "cell_type": "code",
   "execution_count": 218,
   "metadata": {},
   "outputs": [],
   "source": [
    "#Mazda\n",
    "with open('pickles/mazda_dfs.pickle','rb') as read_file:\n",
    "    mazda_dfs = pickle.load(read_file)"
   ]
  },
  {
   "cell_type": "code",
   "execution_count": 219,
   "metadata": {},
   "outputs": [],
   "source": [
    "#Mercedes-Benz\n",
    "with open('pickles/mercedes_dfs.pickle','rb') as read_file:\n",
    "    mercedes_dfs = pickle.load(read_file)"
   ]
  },
  {
   "cell_type": "code",
   "execution_count": 220,
   "metadata": {},
   "outputs": [],
   "source": [
    "#Mitsubishi\n",
    "with open('pickles/mitsubishi_dfs.pickle','rb') as read_file:\n",
    "    mitsubishi_dfs = pickle.load(read_file)"
   ]
  },
  {
   "cell_type": "code",
   "execution_count": 221,
   "metadata": {},
   "outputs": [],
   "source": [
    "#Nissan\n",
    "with open('pickles/nissan_dfs.pickle','rb') as read_file:\n",
    "    nissan_dfs = pickle.load(read_file)"
   ]
  },
  {
   "cell_type": "code",
   "execution_count": 222,
   "metadata": {},
   "outputs": [],
   "source": [
    "#Porsche\n",
    "with open('pickles/porsche_dfs.pickle','rb') as read_file:\n",
    "    porsche_dfs = pickle.load(read_file)"
   ]
  },
  {
   "cell_type": "code",
   "execution_count": 223,
   "metadata": {},
   "outputs": [],
   "source": [
    "#Subaru\n",
    "with open('pickles/subaru_dfs.pickle','rb') as read_file:\n",
    "    subaru_dfs = pickle.load(read_file)"
   ]
  },
  {
   "cell_type": "code",
   "execution_count": 224,
   "metadata": {},
   "outputs": [],
   "source": [
    "#Toyota\n",
    "with open('pickles/toyota_dfs.pickle','rb') as read_file:\n",
    "    toyota_dfs = pickle.load(read_file)"
   ]
  },
  {
   "cell_type": "code",
   "execution_count": 225,
   "metadata": {},
   "outputs": [],
   "source": [
    "#Volkswagen\n",
    "with open('pickles/volkswagen_dfs.pickle','rb') as read_file:\n",
    "    volkswagen_dfs = pickle.load(read_file)"
   ]
  },
  {
   "cell_type": "code",
   "execution_count": 226,
   "metadata": {},
   "outputs": [],
   "source": [
    "#Volvo\n",
    "with open('pickles/volvo_dfs.pickle','rb') as read_file:\n",
    "    volvo_dfs = pickle.load(read_file)"
   ]
  },
  {
   "cell_type": "markdown",
   "metadata": {},
   "source": [
    "-"
   ]
  },
  {
   "cell_type": "markdown",
   "metadata": {},
   "source": [
    "### **Step 2:** Pull all unpickled dfs together to create final list of all cars! "
   ]
  },
  {
   "cell_type": "code",
   "execution_count": 227,
   "metadata": {},
   "outputs": [],
   "source": [
    "# make a list of all car makes' dfs\n",
    "make_dfs = [acura_dfs,\n",
    "            audi_dfs,\n",
    "            bmw_dfs,\n",
    "            bentley_dfs,\n",
    "            bugatti_dfs,\n",
    "            buick_dfs,\n",
    "            cadillac_dfs,\n",
    "            chevrolet_dfs,\n",
    "            chrysler_dfs,\n",
    "            dodge_dfs,\n",
    "            ford_dfs,\n",
    "            gmc_dfs,\n",
    "            honda_dfs,\n",
    "            jaguar_dfs,\n",
    "            jeep_dfs,\n",
    "            maserati_dfs,\n",
    "            mazda_dfs,\n",
    "            mercedes_dfs,\n",
    "            mitsubishi_dfs,\n",
    "            nissan_dfs,\n",
    "            porsche_dfs,\n",
    "            subaru_dfs,\n",
    "            toyota_dfs,\n",
    "            volkswagen_dfs,\n",
    "            volvo_dfs\n",
    "           ]\n",
    "\n",
    "# concatendate all car makes' dfs to create master list\n",
    "all_cars_df = pd.concat(make_dfs, ignore_index=True)"
   ]
  },
  {
   "cell_type": "markdown",
   "metadata": {},
   "source": [
    "-"
   ]
  },
  {
   "cell_type": "markdown",
   "metadata": {},
   "source": [
    "Find size of master dataframe just created above >"
   ]
  },
  {
   "cell_type": "code",
   "execution_count": 228,
   "metadata": {
    "scrolled": true
   },
   "outputs": [
    {
     "data": {
      "text/plain": [
       "(5265, 10)"
      ]
     },
     "execution_count": 228,
     "metadata": {},
     "output_type": "execute_result"
    }
   ],
   "source": [
    "all_cars_df.shape"
   ]
  },
  {
   "cell_type": "markdown",
   "metadata": {},
   "source": [
    "Now pickle it & create a csv for ease to pull and reference moving forward >"
   ]
  },
  {
   "cell_type": "code",
   "execution_count": 229,
   "metadata": {},
   "outputs": [],
   "source": [
    "all_cars_df.to_csv('all_cars_df.csv')"
   ]
  },
  {
   "cell_type": "code",
   "execution_count": 230,
   "metadata": {},
   "outputs": [],
   "source": [
    "with open('pickles/all_cars_df.pickle', 'wb') as to_write:\n",
    "    pickle.dump(all_cars_df, to_write)"
   ]
  },
  {
   "cell_type": "markdown",
   "metadata": {},
   "source": [
    "-"
   ]
  },
  {
   "cell_type": "markdown",
   "metadata": {},
   "source": [
    "### **Step 3:** Clean up values in dataframe as needed to prepare for analysis"
   ]
  },
  {
   "cell_type": "code",
   "execution_count": 3,
   "metadata": {},
   "outputs": [],
   "source": [
    "# first un-pickle to get master dataframe of all cars made above\n",
    "\n",
    "with open('pickles/all_cars_df.pickle','rb') as read_file:\n",
    "    all_cars_df = pickle.load(read_file)"
   ]
  },
  {
   "cell_type": "code",
   "execution_count": 4,
   "metadata": {},
   "outputs": [
    {
     "name": "stdout",
     "output_type": "stream",
     "text": [
      "<class 'pandas.core.frame.DataFrame'>\n",
      "RangeIndex: 5265 entries, 0 to 5264\n",
      "Data columns (total 10 columns):\n",
      " #   Column           Non-Null Count  Dtype  \n",
      "---  ------           --------------  -----  \n",
      " 0   year             5265 non-null   float64\n",
      " 1   make             5265 non-null   object \n",
      " 2   model            5265 non-null   object \n",
      " 3   capacity_liters  5265 non-null   float64\n",
      " 4   cylinders        5265 non-null   float64\n",
      " 5   transmission     5265 non-null   object \n",
      " 6   trans_speed      5265 non-null   object \n",
      " 7   fuel_type        5265 non-null   object \n",
      " 8   gg_emissions     5265 non-null   float64\n",
      " 9   mpg              5265 non-null   float64\n",
      "dtypes: float64(5), object(5)\n",
      "memory usage: 411.5+ KB\n"
     ]
    }
   ],
   "source": [
    "all_cars_df.info()"
   ]
  },
  {
   "cell_type": "markdown",
   "metadata": {},
   "source": [
    "-"
   ]
  },
  {
   "cell_type": "markdown",
   "metadata": {},
   "source": [
    "Digit Types - year, capacity_liters, cylinders, gg_emissions, and mpg should all be numeric"
   ]
  },
  {
   "cell_type": "markdown",
   "metadata": {},
   "source": [
    "`year` are `cylinders` are float, but will change to integer clean -- later dummies will be created for them"
   ]
  },
  {
   "cell_type": "code",
   "execution_count": 5,
   "metadata": {},
   "outputs": [],
   "source": [
    "all_cars_df['year'] = all_cars_df.year.astype('int32')"
   ]
  },
  {
   "cell_type": "code",
   "execution_count": 6,
   "metadata": {},
   "outputs": [],
   "source": [
    "all_cars_df['cylinders'] = all_cars_df.cylinders.astype('int32')"
   ]
  },
  {
   "cell_type": "markdown",
   "metadata": {},
   "source": [
    "-"
   ]
  },
  {
   "cell_type": "markdown",
   "metadata": {},
   "source": [
    "Space needs to be stripped in `fuel_types` names >>"
   ]
  },
  {
   "cell_type": "code",
   "execution_count": 8,
   "metadata": {
    "scrolled": true
   },
   "outputs": [],
   "source": [
    "all_cars_df['fuel_type'] = all_cars_df.fuel_type.str.strip(' ')"
   ]
  },
  {
   "cell_type": "markdown",
   "metadata": {},
   "source": [
    "- "
   ]
  },
  {
   "cell_type": "markdown",
   "metadata": {},
   "source": [
    "A lot of values for capacity liters -- may want to try bucketing them for analysis"
   ]
  },
  {
   "cell_type": "code",
   "execution_count": 119,
   "metadata": {
    "scrolled": true
   },
   "outputs": [
    {
     "data": {
      "text/plain": [
       "array([2.2, 2.3, 3.2, 3. , 1.5, 2.4, 2. , 1.6, 1.8, 2.5, 2.7, 3.5, 3.7,\n",
       "       2.8, 2.1, 5.2, 4.2, 2.9, 4. , 3.6, 4.4, 1.9, 4.9, 6.8, 6.7, 8. ,\n",
       "       4.3, 3.8, 3.1, 5.7, 5. , 1.3, 1.4, 1.2, 5.3, 3.4, 4.1, 4.5, 4.6,\n",
       "       6. , 6.2, 6.5, 1. , 3.3, 2.6, 3.9, 5.9, 8.4, 5.4, 4.7, 5.6, 5.5,\n",
       "       1.7])"
      ]
     },
     "execution_count": 119,
     "metadata": {},
     "output_type": "execute_result"
    }
   ],
   "source": [
    "all_cars_df.capacity_liters.unique()"
   ]
  },
  {
   "cell_type": "markdown",
   "metadata": {},
   "source": [
    "-"
   ]
  },
  {
   "cell_type": "markdown",
   "metadata": {},
   "source": [
    "Looks like we have over 1000 models of cars, so this will likely be left out of analysis -- there are too many comparied to overall dataset size and would not be of value in the model as it doesn't affect the mechanics of the car that create greeenhouse gas emissions (the 'y')"
   ]
  },
  {
   "cell_type": "code",
   "execution_count": 120,
   "metadata": {},
   "outputs": [
    {
     "data": {
      "text/plain": [
       "1083"
      ]
     },
     "execution_count": 120,
     "metadata": {},
     "output_type": "execute_result"
    }
   ],
   "source": [
    "len(all_cars_df.model.unique())"
   ]
  },
  {
   "cell_type": "markdown",
   "metadata": {},
   "source": [
    "-"
   ]
  },
  {
   "cell_type": "markdown",
   "metadata": {},
   "source": [
    "The 'y' value (greenhouse gas emissions from tailpipe of car >>"
   ]
  },
  {
   "cell_type": "code",
   "execution_count": 142,
   "metadata": {
    "scrolled": false
   },
   "outputs": [
    {
     "name": "stdout",
     "output_type": "stream",
     "text": [
      "There are 337 values of actual greenhouse gas emissions -- the \"y\" values.\n",
      "The values for the greenhouse gas emissions range from 168.0 to  889.0\n"
     ]
    }
   ],
   "source": [
    "print(f'There are {len(all_cars_df.gg_emissions.unique())} values of actual greenhouse gas emissions -- the \"y\" values.')\n",
    "print(f'The values for the greenhouse gas emissions range from {all_cars_df.gg_emissions.min()} to  {all_cars_df.gg_emissions.max()}')\n"
   ]
  },
  {
   "cell_type": "markdown",
   "metadata": {},
   "source": [
    "Completed basics of cleaning up data -- now pickle this dataframe and rename as `all_cars_eda` to then pull in new notebook `all_cars_gge_model.ipynb`, and that's the next file we'll go to to continue "
   ]
  },
  {
   "cell_type": "code",
   "execution_count": 10,
   "metadata": {},
   "outputs": [],
   "source": [
    "with open('pickles/all_cars_eda.pickle', 'wb') as to_write:\n",
    "    pickle.dump(all_cars_df, to_write)"
   ]
  },
  {
   "cell_type": "markdown",
   "metadata": {},
   "source": [
    "-\n",
    "\n",
    "### Step 4: Prepare dataframe for developing linear regression model\n",
    "*Create dummies, remove features that aren't wanted in model, etc.*"
   ]
  },
  {
   "cell_type": "markdown",
   "metadata": {},
   "source": [
    "-"
   ]
  },
  {
   "cell_type": "markdown",
   "metadata": {},
   "source": [
    "Then open it back up to now work with `all_cars_eda` dataframe moving forward for Exploratory Data Analysis"
   ]
  },
  {
   "cell_type": "code",
   "execution_count": 11,
   "metadata": {},
   "outputs": [],
   "source": [
    "with open('pickles/all_cars_eda.pickle','rb') as read_file:\n",
    "    all_cars_eda = pickle.load(read_file)"
   ]
  },
  {
   "cell_type": "code",
   "execution_count": 15,
   "metadata": {},
   "outputs": [
    {
     "data": {
      "text/html": [
       "<div>\n",
       "<style scoped>\n",
       "    .dataframe tbody tr th:only-of-type {\n",
       "        vertical-align: middle;\n",
       "    }\n",
       "\n",
       "    .dataframe tbody tr th {\n",
       "        vertical-align: top;\n",
       "    }\n",
       "\n",
       "    .dataframe thead th {\n",
       "        text-align: right;\n",
       "    }\n",
       "</style>\n",
       "<table border=\"1\" class=\"dataframe\">\n",
       "  <thead>\n",
       "    <tr style=\"text-align: right;\">\n",
       "      <th></th>\n",
       "      <th>year</th>\n",
       "      <th>make</th>\n",
       "      <th>model</th>\n",
       "      <th>capacity_liters</th>\n",
       "      <th>cylinders</th>\n",
       "      <th>transmission</th>\n",
       "      <th>trans_speed</th>\n",
       "      <th>fuel_type</th>\n",
       "      <th>gg_emissions</th>\n",
       "      <th>mpg</th>\n",
       "    </tr>\n",
       "  </thead>\n",
       "  <tbody>\n",
       "    <tr>\n",
       "      <th>4804</th>\n",
       "      <td>1991</td>\n",
       "      <td>Toyota</td>\n",
       "      <td>Previa All-Trac</td>\n",
       "      <td>2.4</td>\n",
       "      <td>4</td>\n",
       "      <td>Manual</td>\n",
       "      <td>5</td>\n",
       "      <td>Regular Gasoline</td>\n",
       "      <td>523.0</td>\n",
       "      <td>17.0</td>\n",
       "    </tr>\n",
       "    <tr>\n",
       "      <th>3503</th>\n",
       "      <td>1994</td>\n",
       "      <td>Mazda</td>\n",
       "      <td>Protege</td>\n",
       "      <td>1.8</td>\n",
       "      <td>4</td>\n",
       "      <td>Manual</td>\n",
       "      <td>5</td>\n",
       "      <td>Regular Gasoline</td>\n",
       "      <td>329.0</td>\n",
       "      <td>27.0</td>\n",
       "    </tr>\n",
       "    <tr>\n",
       "      <th>2193</th>\n",
       "      <td>1986</td>\n",
       "      <td>Ford</td>\n",
       "      <td>Aerostar Van</td>\n",
       "      <td>3.0</td>\n",
       "      <td>6</td>\n",
       "      <td>Manual</td>\n",
       "      <td>5</td>\n",
       "      <td>Regular Gasoline</td>\n",
       "      <td>468.0</td>\n",
       "      <td>19.0</td>\n",
       "    </tr>\n",
       "  </tbody>\n",
       "</table>\n",
       "</div>"
      ],
      "text/plain": [
       "      year    make            model  capacity_liters  cylinders transmission  \\\n",
       "4804  1991  Toyota  Previa All-Trac              2.4          4       Manual   \n",
       "3503  1994   Mazda          Protege              1.8          4       Manual   \n",
       "2193  1986    Ford     Aerostar Van              3.0          6       Manual   \n",
       "\n",
       "     trans_speed         fuel_type  gg_emissions   mpg  \n",
       "4804           5  Regular Gasoline         523.0  17.0  \n",
       "3503           5  Regular Gasoline         329.0  27.0  \n",
       "2193           5  Regular Gasoline         468.0  19.0  "
      ]
     },
     "execution_count": 15,
     "metadata": {},
     "output_type": "execute_result"
    }
   ],
   "source": [
    "all_cars_eda.sample(3)"
   ]
  },
  {
   "cell_type": "markdown",
   "metadata": {},
   "source": [
    "-\n",
    "\n",
    "**Remove miles-per-gallon.**  By removing we'll allow opportunity to examine any relationships between the other features of the car and the greenhouse gas emissions, otherwise miles-per-gallon would be too dominant of feature and also isn't really telling us more deeply what causes greenhouse gas emissions from the mechanics of how the car was built"
   ]
  },
  {
   "cell_type": "code",
   "execution_count": null,
   "metadata": {},
   "outputs": [],
   "source": []
  },
  {
   "cell_type": "markdown",
   "metadata": {},
   "source": [
    "-\n",
    "\n",
    "**Remove makes, models, & transmission speed.**  Can say with confidence these are not signiciantly relevant to the greenhouse gas emissions of the car and would not be worth create dummies for the non-numberic categories."
   ]
  },
  {
   "cell_type": "code",
   "execution_count": null,
   "metadata": {},
   "outputs": [],
   "source": []
  },
  {
   "cell_type": "code",
   "execution_count": null,
   "metadata": {},
   "outputs": [],
   "source": []
  },
  {
   "cell_type": "code",
   "execution_count": null,
   "metadata": {},
   "outputs": [],
   "source": []
  },
  {
   "cell_type": "markdown",
   "metadata": {},
   "source": [
    "-"
   ]
  },
  {
   "cell_type": "markdown",
   "metadata": {},
   "source": [
    "## ANALYSIS - Testing for now only"
   ]
  },
  {
   "cell_type": "code",
   "execution_count": 222,
   "metadata": {},
   "outputs": [],
   "source": [
    "# Necessary imports\n",
    "import pandas as pd\n",
    "import numpy as np\n",
    "import statsmodels.api as sm\n",
    "import statsmodels.formula.api as smf\n",
    "import patsy\n",
    "\n",
    "import seaborn as sns\n",
    "import matplotlib.pyplot as plt\n",
    "from sklearn.linear_model import LinearRegression\n",
    "from sklearn.linear_model import RidgeCV\n",
    "%matplotlib inline\n",
    "\n",
    "import pandas.util.testing as tm"
   ]
  },
  {
   "cell_type": "code",
   "execution_count": 223,
   "metadata": {},
   "outputs": [],
   "source": [
    "test_df = all_cars_df[['year','capacity_liters','cylinders','gg_emissions','mpg']]"
   ]
  },
  {
   "cell_type": "code",
   "execution_count": 224,
   "metadata": {},
   "outputs": [
    {
     "data": {
      "text/html": [
       "<div>\n",
       "<style scoped>\n",
       "    .dataframe tbody tr th:only-of-type {\n",
       "        vertical-align: middle;\n",
       "    }\n",
       "\n",
       "    .dataframe tbody tr th {\n",
       "        vertical-align: top;\n",
       "    }\n",
       "\n",
       "    .dataframe thead th {\n",
       "        text-align: right;\n",
       "    }\n",
       "</style>\n",
       "<table border=\"1\" class=\"dataframe\">\n",
       "  <thead>\n",
       "    <tr style=\"text-align: right;\">\n",
       "      <th></th>\n",
       "      <th>year</th>\n",
       "      <th>capacity_liters</th>\n",
       "      <th>cylinders</th>\n",
       "      <th>gg_emissions</th>\n",
       "      <th>mpg</th>\n",
       "    </tr>\n",
       "  </thead>\n",
       "  <tbody>\n",
       "    <tr>\n",
       "      <th>year</th>\n",
       "      <td>1.000000</td>\n",
       "      <td>-0.050034</td>\n",
       "      <td>0.015364</td>\n",
       "      <td>-0.254697</td>\n",
       "      <td>0.226578</td>\n",
       "    </tr>\n",
       "    <tr>\n",
       "      <th>capacity_liters</th>\n",
       "      <td>-0.050034</td>\n",
       "      <td>1.000000</td>\n",
       "      <td>0.906518</td>\n",
       "      <td>0.774102</td>\n",
       "      <td>-0.677264</td>\n",
       "    </tr>\n",
       "    <tr>\n",
       "      <th>cylinders</th>\n",
       "      <td>0.015364</td>\n",
       "      <td>0.906518</td>\n",
       "      <td>1.000000</td>\n",
       "      <td>0.740740</td>\n",
       "      <td>-0.647170</td>\n",
       "    </tr>\n",
       "    <tr>\n",
       "      <th>gg_emissions</th>\n",
       "      <td>-0.254697</td>\n",
       "      <td>0.774102</td>\n",
       "      <td>0.740740</td>\n",
       "      <td>1.000000</td>\n",
       "      <td>-0.912816</td>\n",
       "    </tr>\n",
       "    <tr>\n",
       "      <th>mpg</th>\n",
       "      <td>0.226578</td>\n",
       "      <td>-0.677264</td>\n",
       "      <td>-0.647170</td>\n",
       "      <td>-0.912816</td>\n",
       "      <td>1.000000</td>\n",
       "    </tr>\n",
       "  </tbody>\n",
       "</table>\n",
       "</div>"
      ],
      "text/plain": [
       "                     year  capacity_liters  cylinders  gg_emissions       mpg\n",
       "year             1.000000        -0.050034   0.015364     -0.254697  0.226578\n",
       "capacity_liters -0.050034         1.000000   0.906518      0.774102 -0.677264\n",
       "cylinders        0.015364         0.906518   1.000000      0.740740 -0.647170\n",
       "gg_emissions    -0.254697         0.774102   0.740740      1.000000 -0.912816\n",
       "mpg              0.226578        -0.677264  -0.647170     -0.912816  1.000000"
      ]
     },
     "execution_count": 224,
     "metadata": {},
     "output_type": "execute_result"
    }
   ],
   "source": [
    "# Examine correlations of the values\n",
    "\n",
    "test_df.corr()"
   ]
  },
  {
   "cell_type": "code",
   "execution_count": 225,
   "metadata": {},
   "outputs": [
    {
     "data": {
      "image/png": "[encoded data removed]",
      "text/plain": [
       "<Figure size 432x288 with 2 Axes>"
      ]
     },
     "metadata": {
      "needs_background": "light"
     },
     "output_type": "display_data"
    }
   ],
   "source": [
    "# Create heatmap of the correlations\n",
    "\n",
    "ax = sns.heatmap(test_df.corr(), cmap=\"PRGn\", annot=True, vmin=-1, vmax=1)\n",
    "ax.set_ylim(5.0, 0);"
   ]
  },
  {
   "cell_type": "code",
   "execution_count": 226,
   "metadata": {},
   "outputs": [
    {
     "data": {
      "image/png": "[encoded data removed]",
      "text/plain": [
       "<Figure size 648x432 with 30 Axes>"
      ]
     },
     "metadata": {
      "needs_background": "light"
     },
     "output_type": "display_data"
    }
   ],
   "source": [
    "# Plot all of the car variable-to-variable relations as scatterplots\n",
    "\n",
    "sns.pairplot(all_cars_df, height=1.2, aspect=1.5);"
   ]
  },
  {
   "cell_type": "code",
   "execution_count": 230,
   "metadata": {},
   "outputs": [
    {
     "data": {
      "text/html": [
       "<table class=\"simpletable\">\n",
       "<caption>OLS Regression Results</caption>\n",
       "<tr>\n",
       "  <th>Dep. Variable:</th>      <td>gg_emissions</td>   <th>  R-squared:         </th> <td>   0.608</td> \n",
       "</tr>\n",
       "<tr>\n",
       "  <th>Model:</th>                   <td>OLS</td>       <th>  Adj. R-squared:    </th> <td>   0.608</td> \n",
       "</tr>\n",
       "<tr>\n",
       "  <th>Method:</th>             <td>Least Squares</td>  <th>  F-statistic:       </th> <td>   4077.</td> \n",
       "</tr>\n",
       "<tr>\n",
       "  <th>Date:</th>             <td>Fri, 10 Jul 2020</td> <th>  Prob (F-statistic):</th>  <td>  0.00</td>  \n",
       "</tr>\n",
       "<tr>\n",
       "  <th>Time:</th>                 <td>01:12:37</td>     <th>  Log-Likelihood:    </th> <td> -29831.</td> \n",
       "</tr>\n",
       "<tr>\n",
       "  <th>No. Observations:</th>      <td>  5265</td>      <th>  AIC:               </th> <td>5.967e+04</td>\n",
       "</tr>\n",
       "<tr>\n",
       "  <th>Df Residuals:</th>          <td>  5262</td>      <th>  BIC:               </th> <td>5.969e+04</td>\n",
       "</tr>\n",
       "<tr>\n",
       "  <th>Df Model:</th>              <td>     2</td>      <th>                     </th>     <td> </td>    \n",
       "</tr>\n",
       "<tr>\n",
       "  <th>Covariance Type:</th>      <td>nonrobust</td>    <th>                     </th>     <td> </td>    \n",
       "</tr>\n",
       "</table>\n",
       "<table class=\"simpletable\">\n",
       "<tr>\n",
       "         <td></td>            <th>coef</th>     <th>std err</th>      <th>t</th>      <th>P>|t|</th>  <th>[0.025</th>    <th>0.975]</th>  \n",
       "</tr>\n",
       "<tr>\n",
       "  <th>Intercept</th>       <td>  205.1445</td> <td>    3.670</td> <td>   55.899</td> <td> 0.000</td> <td>  197.950</td> <td>  212.339</td>\n",
       "</tr>\n",
       "<tr>\n",
       "  <th>capacity_liters</th> <td>   48.6383</td> <td>    1.728</td> <td>   28.151</td> <td> 0.000</td> <td>   45.251</td> <td>   52.025</td>\n",
       "</tr>\n",
       "<tr>\n",
       "  <th>cylinders</th>       <td>   15.0010</td> <td>    1.402</td> <td>   10.701</td> <td> 0.000</td> <td>   12.253</td> <td>   17.749</td>\n",
       "</tr>\n",
       "</table>\n",
       "<table class=\"simpletable\">\n",
       "<tr>\n",
       "  <th>Omnibus:</th>       <td>354.496</td> <th>  Durbin-Watson:     </th> <td>   0.302</td> \n",
       "</tr>\n",
       "<tr>\n",
       "  <th>Prob(Omnibus):</th> <td> 0.000</td>  <th>  Jarque-Bera (JB):  </th> <td> 761.911</td> \n",
       "</tr>\n",
       "<tr>\n",
       "  <th>Skew:</th>          <td> 0.444</td>  <th>  Prob(JB):          </th> <td>3.57e-166</td>\n",
       "</tr>\n",
       "<tr>\n",
       "  <th>Kurtosis:</th>      <td> 4.639</td>  <th>  Cond. No.          </th> <td>    26.9</td> \n",
       "</tr>\n",
       "</table><br/><br/>Warnings:<br/>[1] Standard Errors assume that the covariance matrix of the errors is correctly specified."
      ],
      "text/plain": [
       "<class 'statsmodels.iolib.summary.Summary'>\n",
       "\"\"\"\n",
       "                            OLS Regression Results                            \n",
       "==============================================================================\n",
       "Dep. Variable:           gg_emissions   R-squared:                       0.608\n",
       "Model:                            OLS   Adj. R-squared:                  0.608\n",
       "Method:                 Least Squares   F-statistic:                     4077.\n",
       "Date:                Fri, 10 Jul 2020   Prob (F-statistic):               0.00\n",
       "Time:                        01:12:37   Log-Likelihood:                -29831.\n",
       "No. Observations:                5265   AIC:                         5.967e+04\n",
       "Df Residuals:                    5262   BIC:                         5.969e+04\n",
       "Df Model:                           2                                         \n",
       "Covariance Type:            nonrobust                                         \n",
       "===================================================================================\n",
       "                      coef    std err          t      P>|t|      [0.025      0.975]\n",
       "-----------------------------------------------------------------------------------\n",
       "Intercept         205.1445      3.670     55.899      0.000     197.950     212.339\n",
       "capacity_liters    48.6383      1.728     28.151      0.000      45.251      52.025\n",
       "cylinders          15.0010      1.402     10.701      0.000      12.253      17.749\n",
       "==============================================================================\n",
       "Omnibus:                      354.496   Durbin-Watson:                   0.302\n",
       "Prob(Omnibus):                  0.000   Jarque-Bera (JB):              761.911\n",
       "Skew:                           0.444   Prob(JB):                    3.57e-166\n",
       "Kurtosis:                       4.639   Cond. No.                         26.9\n",
       "==============================================================================\n",
       "\n",
       "Warnings:\n",
       "[1] Standard Errors assume that the covariance matrix of the errors is correctly specified.\n",
       "\"\"\""
      ]
     },
     "execution_count": 230,
     "metadata": {},
     "output_type": "execute_result"
    }
   ],
   "source": [
    "# Create feature matrix (X) and target vector (y)\n",
    "y, X = patsy.dmatrices('gg_emissions ~ capacity_liters + cylinders',\n",
    "                       data=test_df, return_type=\"dataframe\")\n",
    "\n",
    "# Create car model\n",
    "car_model = sm.OLS(y, X)\n",
    "\n",
    "# Fit your model to your training set\n",
    "car_fit = car_model.fit()\n",
    "\n",
    "# Print summary statistics of the model's performance\n",
    "car_fit.summary()"
   ]
  },
  {
   "cell_type": "code",
   "execution_count": 231,
   "metadata": {},
   "outputs": [
    {
     "data": {
      "image/png": "[encoded data removed]",
      "text/plain": [
       "<Figure size 864x576 with 1 Axes>"
      ]
     },
     "metadata": {
      "needs_background": "light"
     },
     "output_type": "display_data"
    }
   ],
   "source": [
    "# Plot the residuals vs the fitted values\n",
    "\n",
    "plt.figure(figsize=(12,8))\n",
    "plt.scatter(car_fit.predict(), car_fit.resid);"
   ]
  },
  {
   "cell_type": "code",
   "execution_count": 71,
   "metadata": {},
   "outputs": [
    {
     "data": {
      "text/plain": [
       "0.9485155582273012"
      ]
     },
     "execution_count": 71,
     "metadata": {},
     "output_type": "execute_result"
    }
   ],
   "source": [
    "# Using Sklearn to get R**2 value -- should be same as above\n",
    "\n",
    "# Create an empty model\n",
    "lr = LinearRegression()\n",
    "\n",
    "# Choose the predictor variables, here all but the first which is the response variable\n",
    "# This model is analogous to the Y ~ X1 + X2 + X3 + X4 + X5 + X6 model\n",
    "X = test_df.loc[:, ['capacity_liters', 'cylinders', 'year', 'mpg']]\n",
    "\n",
    "# Choose the response variable(s)\n",
    "y = test_df.loc[:, ['gg_emissions']]\n",
    "\n",
    "# Fit the model to the full dataset\n",
    "lr.fit(X, y)\n",
    "\n",
    "# Print out the R^2 for the model against the full dataset\n",
    "lr.score(X,y)"
   ]
  },
  {
   "cell_type": "code",
   "execution_count": 72,
   "metadata": {},
   "outputs": [
    {
     "data": {
      "text/plain": [
       "array([1867.05907387])"
      ]
     },
     "execution_count": 72,
     "metadata": {},
     "output_type": "execute_result"
    }
   ],
   "source": [
    "# use sklearn to find other intercept\n",
    "lr.intercept_"
   ]
  },
  {
   "cell_type": "code",
   "execution_count": 73,
   "metadata": {},
   "outputs": [
    {
     "data": {
      "text/plain": [
       "array([[  5.65972618,   4.79983983,  -0.56793354, -15.99066563]])"
      ]
     },
     "execution_count": 73,
     "metadata": {},
     "output_type": "execute_result"
    }
   ],
   "source": [
    "# use sklearn to find other coefficients\n",
    "lr.coef_"
   ]
  },
  {
   "cell_type": "code",
   "execution_count": null,
   "metadata": {},
   "outputs": [],
   "source": []
  },
  {
   "cell_type": "code",
   "execution_count": null,
   "metadata": {},
   "outputs": [],
   "source": []
  }
 ],
 "metadata": {
  "kernelspec": {
   "display_name": "Python 3",
   "language": "python",
   "name": "python3"
  },
  "language_info": {
   "codemirror_mode": {
    "name": "ipython",
    "version": 3
   },
   "file_extension": ".py",
   "mimetype": "text/x-python",
   "name": "python",
   "nbconvert_exporter": "python",
   "pygments_lexer": "ipython3",
   "version": "3.7.4"
  }
 },
 "nbformat": 4,
 "nbformat_minor": 2
}
